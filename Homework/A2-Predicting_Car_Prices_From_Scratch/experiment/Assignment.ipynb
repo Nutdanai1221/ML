{
 "cells": [
  {
   "cell_type": "markdown",
   "metadata": {},
   "source": [
    "# Assignment A2: Predicting Car Price From Scratch\n",
    "## Nutdanai Sritunya MMI st123055"
   ]
  },
  {
   "cell_type": "code",
   "execution_count": 1,
   "metadata": {},
   "outputs": [],
   "source": [
    "import numpy as np\n",
    "import pandas as pd\n",
    "import seaborn as sns\n",
    "import matplotlib.pyplot as plt \n",
    "from sklearn.preprocessing import LabelEncoder\n",
    "import matplotlib"
   ]
  },
  {
   "cell_type": "markdown",
   "metadata": {},
   "source": [
    "# 1. Load and preparing datasets"
   ]
  },
  {
   "cell_type": "code",
   "execution_count": 2,
   "metadata": {},
   "outputs": [],
   "source": [
    "df = pd.read_csv('./Cars.csv')"
   ]
  },
  {
   "cell_type": "code",
   "execution_count": 3,
   "metadata": {},
   "outputs": [
    {
     "data": {
      "text/html": [
       "<div>\n",
       "<style scoped>\n",
       "    .dataframe tbody tr th:only-of-type {\n",
       "        vertical-align: middle;\n",
       "    }\n",
       "\n",
       "    .dataframe tbody tr th {\n",
       "        vertical-align: top;\n",
       "    }\n",
       "\n",
       "    .dataframe thead th {\n",
       "        text-align: right;\n",
       "    }\n",
       "</style>\n",
       "<table border=\"1\" class=\"dataframe\">\n",
       "  <thead>\n",
       "    <tr style=\"text-align: right;\">\n",
       "      <th></th>\n",
       "      <th>name</th>\n",
       "      <th>year</th>\n",
       "      <th>selling_price</th>\n",
       "      <th>km_driven</th>\n",
       "      <th>fuel</th>\n",
       "      <th>seller_type</th>\n",
       "      <th>transmission</th>\n",
       "      <th>owner</th>\n",
       "      <th>mileage</th>\n",
       "      <th>engine</th>\n",
       "      <th>max_power</th>\n",
       "      <th>torque</th>\n",
       "      <th>seats</th>\n",
       "    </tr>\n",
       "  </thead>\n",
       "  <tbody>\n",
       "    <tr>\n",
       "      <th>0</th>\n",
       "      <td>Maruti Swift Dzire VDI</td>\n",
       "      <td>2014</td>\n",
       "      <td>450000</td>\n",
       "      <td>145500</td>\n",
       "      <td>Diesel</td>\n",
       "      <td>Individual</td>\n",
       "      <td>Manual</td>\n",
       "      <td>First Owner</td>\n",
       "      <td>23.4 kmpl</td>\n",
       "      <td>1248 CC</td>\n",
       "      <td>74 bhp</td>\n",
       "      <td>190Nm@ 2000rpm</td>\n",
       "      <td>5.0</td>\n",
       "    </tr>\n",
       "    <tr>\n",
       "      <th>1</th>\n",
       "      <td>Skoda Rapid 1.5 TDI Ambition</td>\n",
       "      <td>2014</td>\n",
       "      <td>370000</td>\n",
       "      <td>120000</td>\n",
       "      <td>Diesel</td>\n",
       "      <td>Individual</td>\n",
       "      <td>Manual</td>\n",
       "      <td>Second Owner</td>\n",
       "      <td>21.14 kmpl</td>\n",
       "      <td>1498 CC</td>\n",
       "      <td>103.52 bhp</td>\n",
       "      <td>250Nm@ 1500-2500rpm</td>\n",
       "      <td>5.0</td>\n",
       "    </tr>\n",
       "    <tr>\n",
       "      <th>2</th>\n",
       "      <td>Honda City 2017-2020 EXi</td>\n",
       "      <td>2006</td>\n",
       "      <td>158000</td>\n",
       "      <td>140000</td>\n",
       "      <td>Petrol</td>\n",
       "      <td>Individual</td>\n",
       "      <td>Manual</td>\n",
       "      <td>Third Owner</td>\n",
       "      <td>17.7 kmpl</td>\n",
       "      <td>1497 CC</td>\n",
       "      <td>78 bhp</td>\n",
       "      <td>12.7@ 2,700(kgm@ rpm)</td>\n",
       "      <td>5.0</td>\n",
       "    </tr>\n",
       "    <tr>\n",
       "      <th>3</th>\n",
       "      <td>Hyundai i20 Sportz Diesel</td>\n",
       "      <td>2010</td>\n",
       "      <td>225000</td>\n",
       "      <td>127000</td>\n",
       "      <td>Diesel</td>\n",
       "      <td>Individual</td>\n",
       "      <td>Manual</td>\n",
       "      <td>First Owner</td>\n",
       "      <td>23.0 kmpl</td>\n",
       "      <td>1396 CC</td>\n",
       "      <td>90 bhp</td>\n",
       "      <td>22.4 kgm at 1750-2750rpm</td>\n",
       "      <td>5.0</td>\n",
       "    </tr>\n",
       "    <tr>\n",
       "      <th>4</th>\n",
       "      <td>Maruti Swift VXI BSIII</td>\n",
       "      <td>2007</td>\n",
       "      <td>130000</td>\n",
       "      <td>120000</td>\n",
       "      <td>Petrol</td>\n",
       "      <td>Individual</td>\n",
       "      <td>Manual</td>\n",
       "      <td>First Owner</td>\n",
       "      <td>16.1 kmpl</td>\n",
       "      <td>1298 CC</td>\n",
       "      <td>88.2 bhp</td>\n",
       "      <td>11.5@ 4,500(kgm@ rpm)</td>\n",
       "      <td>5.0</td>\n",
       "    </tr>\n",
       "  </tbody>\n",
       "</table>\n",
       "</div>"
      ],
      "text/plain": [
       "                           name  year  selling_price  km_driven    fuel  \\\n",
       "0        Maruti Swift Dzire VDI  2014         450000     145500  Diesel   \n",
       "1  Skoda Rapid 1.5 TDI Ambition  2014         370000     120000  Diesel   \n",
       "2      Honda City 2017-2020 EXi  2006         158000     140000  Petrol   \n",
       "3     Hyundai i20 Sportz Diesel  2010         225000     127000  Diesel   \n",
       "4        Maruti Swift VXI BSIII  2007         130000     120000  Petrol   \n",
       "\n",
       "  seller_type transmission         owner     mileage   engine   max_power  \\\n",
       "0  Individual       Manual   First Owner   23.4 kmpl  1248 CC      74 bhp   \n",
       "1  Individual       Manual  Second Owner  21.14 kmpl  1498 CC  103.52 bhp   \n",
       "2  Individual       Manual   Third Owner   17.7 kmpl  1497 CC      78 bhp   \n",
       "3  Individual       Manual   First Owner   23.0 kmpl  1396 CC      90 bhp   \n",
       "4  Individual       Manual   First Owner   16.1 kmpl  1298 CC    88.2 bhp   \n",
       "\n",
       "                     torque  seats  \n",
       "0            190Nm@ 2000rpm    5.0  \n",
       "1       250Nm@ 1500-2500rpm    5.0  \n",
       "2     12.7@ 2,700(kgm@ rpm)    5.0  \n",
       "3  22.4 kgm at 1750-2750rpm    5.0  \n",
       "4     11.5@ 4,500(kgm@ rpm)    5.0  "
      ]
     },
     "execution_count": 3,
     "metadata": {},
     "output_type": "execute_result"
    }
   ],
   "source": [
    "df.head()"
   ]
  },
  {
   "cell_type": "code",
   "execution_count": 4,
   "metadata": {},
   "outputs": [
    {
     "data": {
      "text/plain": [
       "(8128, 13)"
      ]
     },
     "execution_count": 4,
     "metadata": {},
     "output_type": "execute_result"
    }
   ],
   "source": [
    "# That mean you data have 12 feature and 1 label \n",
    "df.shape"
   ]
  },
  {
   "cell_type": "code",
   "execution_count": 5,
   "metadata": {},
   "outputs": [
    {
     "name": "stdout",
     "output_type": "stream",
     "text": [
      "<class 'pandas.core.frame.DataFrame'>\n",
      "RangeIndex: 8128 entries, 0 to 8127\n",
      "Data columns (total 13 columns):\n",
      " #   Column         Non-Null Count  Dtype  \n",
      "---  ------         --------------  -----  \n",
      " 0   name           8128 non-null   object \n",
      " 1   year           8128 non-null   int64  \n",
      " 2   selling_price  8128 non-null   int64  \n",
      " 3   km_driven      8128 non-null   int64  \n",
      " 4   fuel           8128 non-null   object \n",
      " 5   seller_type    8128 non-null   object \n",
      " 6   transmission   8128 non-null   object \n",
      " 7   owner          8128 non-null   object \n",
      " 8   mileage        7907 non-null   object \n",
      " 9   engine         7907 non-null   object \n",
      " 10  max_power      7913 non-null   object \n",
      " 11  torque         7906 non-null   object \n",
      " 12  seats          7907 non-null   float64\n",
      "dtypes: float64(1), int64(3), object(9)\n",
      "memory usage: 825.6+ KB\n"
     ]
    }
   ],
   "source": [
    "# Check Dtypes of your input data\n",
    "df.info() "
   ]
  },
  {
   "cell_type": "markdown",
   "metadata": {},
   "source": [
    "you will see that are so many object type so we need to do something with this first. Follow the instruction of Chaky, First we need to\n",
    "- map First owner to 1, ..., Test Drive Car to 5"
   ]
  },
  {
   "cell_type": "code",
   "execution_count": 6,
   "metadata": {},
   "outputs": [
    {
     "name": "stdout",
     "output_type": "stream",
     "text": [
      "{'Fourth & Above Owner', 'Second Owner', 'First Owner', 'Third Owner', 'Test Drive Car'}\n"
     ]
    }
   ],
   "source": [
    "le = LabelEncoder()\n",
    "print(set(df[\"owner\"]))\n",
    "df[\"owner\"] = le.fit_transform(df[\"owner\"])+1"
   ]
  },
  {
   "cell_type": "code",
   "execution_count": 7,
   "metadata": {},
   "outputs": [
    {
     "data": {
      "text/plain": [
       "0       1\n",
       "1       3\n",
       "2       5\n",
       "3       1\n",
       "4       1\n",
       "       ..\n",
       "8123    1\n",
       "8124    2\n",
       "8125    1\n",
       "8126    1\n",
       "8127    1\n",
       "Name: owner, Length: 8128, dtype: int32"
      ]
     },
     "execution_count": 7,
     "metadata": {},
     "output_type": "execute_result"
    }
   ],
   "source": [
    "df[\"owner\"]"
   ]
  },
  {
   "cell_type": "code",
   "execution_count": 8,
   "metadata": {},
   "outputs": [
    {
     "data": {
      "text/plain": [
       "array([0])"
      ]
     },
     "execution_count": 8,
     "metadata": {},
     "output_type": "execute_result"
    }
   ],
   "source": [
    "le.transform(['First Owner'])"
   ]
  },
  {
   "cell_type": "code",
   "execution_count": 9,
   "metadata": {},
   "outputs": [
    {
     "data": {
      "text/plain": [
       "{1, 2, 3, 4, 5}"
      ]
     },
     "execution_count": 9,
     "metadata": {},
     "output_type": "execute_result"
    }
   ],
   "source": [
    "set(df[\"owner\"]) #Now the owner feature is already map to number"
   ]
  },
  {
   "cell_type": "markdown",
   "metadata": {},
   "source": [
    "• For the feature fuel, remove all rows with CNG and LPG because CNG and LPG use a different\n",
    "mileage system i.e., km/kg which is different from kmfeaturepl for Diesel and Petrol"
   ]
  },
  {
   "cell_type": "code",
   "execution_count": 10,
   "metadata": {},
   "outputs": [
    {
     "data": {
      "text/plain": [
       "Diesel    4402\n",
       "Petrol    3631\n",
       "CNG         57\n",
       "LPG         38\n",
       "Name: fuel, dtype: int64"
      ]
     },
     "execution_count": 10,
     "metadata": {},
     "output_type": "execute_result"
    }
   ],
   "source": [
    "df['fuel'].value_counts() #Before"
   ]
  },
  {
   "cell_type": "code",
   "execution_count": 11,
   "metadata": {},
   "outputs": [
    {
     "data": {
      "text/plain": [
       "Diesel    4402\n",
       "Petrol    3631\n",
       "Name: fuel, dtype: int64"
      ]
     },
     "execution_count": 11,
     "metadata": {},
     "output_type": "execute_result"
    }
   ],
   "source": [
    "df_filtered = df.loc[~df['fuel'].isin(['CNG', 'LPG'])]\n",
    "df_filtered['fuel'].value_counts() #After"
   ]
  },
  {
   "cell_type": "markdown",
   "metadata": {},
   "source": [
    "- For the feature mileage, remove “kmpl” and convert the column to numerical type (e.g., float).\n",
    "Hint: use df.mileage.str.split"
   ]
  },
  {
   "cell_type": "code",
   "execution_count": 12,
   "metadata": {},
   "outputs": [
    {
     "data": {
      "text/plain": [
       "'23.4 kmpl'"
      ]
     },
     "execution_count": 12,
     "metadata": {},
     "output_type": "execute_result"
    }
   ],
   "source": [
    "df_filtered['mileage'][0]"
   ]
  },
  {
   "cell_type": "code",
   "execution_count": 13,
   "metadata": {},
   "outputs": [
    {
     "name": "stderr",
     "output_type": "stream",
     "text": [
      "C:\\Users\\earth\\AppData\\Local\\Temp\\ipykernel_24812\\3418012339.py:2: SettingWithCopyWarning: \n",
      "A value is trying to be set on a copy of a slice from a DataFrame.\n",
      "Try using .loc[row_indexer,col_indexer] = value instead\n",
      "\n",
      "See the caveats in the documentation: https://pandas.pydata.org/pandas-docs/stable/user_guide/indexing.html#returning-a-view-versus-a-copy\n",
      "  df_filtered['mileage'] = df_filtered['mileage'].str.split(' ').str[0].astype(float)\n"
     ]
    }
   ],
   "source": [
    "# Remove the \"kmpl\" by split and select the first object ['23.4', 'kmpl'] and convert to float\n",
    "df_filtered['mileage'] = df_filtered['mileage'].str.split(' ').str[0].astype(float)"
   ]
  },
  {
   "cell_type": "markdown",
   "metadata": {},
   "source": [
    "- For the feature engine, remove “CC” and convert the column to numerical type (e.g., float)"
   ]
  },
  {
   "cell_type": "code",
   "execution_count": 14,
   "metadata": {},
   "outputs": [
    {
     "name": "stderr",
     "output_type": "stream",
     "text": [
      "C:\\Users\\earth\\AppData\\Local\\Temp\\ipykernel_24812\\3239265068.py:1: SettingWithCopyWarning: \n",
      "A value is trying to be set on a copy of a slice from a DataFrame.\n",
      "Try using .loc[row_indexer,col_indexer] = value instead\n",
      "\n",
      "See the caveats in the documentation: https://pandas.pydata.org/pandas-docs/stable/user_guide/indexing.html#returning-a-view-versus-a-copy\n",
      "  df_filtered['engine'] = df_filtered['engine'].str.split(' ').str[0].astype(float)\n"
     ]
    }
   ],
   "source": [
    "df_filtered['engine'] = df_filtered['engine'].str.split(' ').str[0].astype(float)"
   ]
  },
  {
   "cell_type": "markdown",
   "metadata": {},
   "source": [
    "- Do the same for max power"
   ]
  },
  {
   "cell_type": "code",
   "execution_count": 15,
   "metadata": {},
   "outputs": [
    {
     "name": "stderr",
     "output_type": "stream",
     "text": [
      "C:\\Users\\earth\\AppData\\Local\\Temp\\ipykernel_24812\\1974573241.py:1: SettingWithCopyWarning: \n",
      "A value is trying to be set on a copy of a slice from a DataFrame.\n",
      "Try using .loc[row_indexer,col_indexer] = value instead\n",
      "\n",
      "See the caveats in the documentation: https://pandas.pydata.org/pandas-docs/stable/user_guide/indexing.html#returning-a-view-versus-a-copy\n",
      "  df_filtered['max_power'] = df_filtered['max_power'].str.split(' ').str[0].astype(float)\n"
     ]
    }
   ],
   "source": [
    "df_filtered['max_power'] = df_filtered['max_power'].str.split(' ').str[0].astype(float)"
   ]
  },
  {
   "cell_type": "markdown",
   "metadata": {},
   "source": [
    " For the feature brand, take only the first word and remove the rest"
   ]
  },
  {
   "cell_type": "code",
   "execution_count": 16,
   "metadata": {},
   "outputs": [
    {
     "name": "stderr",
     "output_type": "stream",
     "text": [
      "C:\\Users\\earth\\AppData\\Local\\Temp\\ipykernel_24812\\81196181.py:1: SettingWithCopyWarning: \n",
      "A value is trying to be set on a copy of a slice from a DataFrame.\n",
      "Try using .loc[row_indexer,col_indexer] = value instead\n",
      "\n",
      "See the caveats in the documentation: https://pandas.pydata.org/pandas-docs/stable/user_guide/indexing.html#returning-a-view-versus-a-copy\n",
      "  df_filtered['name'] = df_filtered['name'].str.split(' ').str[0]\n"
     ]
    }
   ],
   "source": [
    "df_filtered['name'] = df_filtered['name'].str.split(' ').str[0]"
   ]
  },
  {
   "cell_type": "markdown",
   "metadata": {},
   "source": [
    "Drop the feature torque, simply because Chaky’s company does not understand well about it"
   ]
  },
  {
   "cell_type": "code",
   "execution_count": 17,
   "metadata": {},
   "outputs": [],
   "source": [
    "df_filtered = df_filtered.drop('torque', axis=1)"
   ]
  },
  {
   "cell_type": "markdown",
   "metadata": {},
   "source": [
    "- You will found out that Test Drive Cars are ridiculously expensive. Since we do not want to\n",
    "involve this, we will simply delete all samples related to it"
   ]
  },
  {
   "cell_type": "code",
   "execution_count": 18,
   "metadata": {},
   "outputs": [
    {
     "data": {
      "text/plain": [
       "array([3])"
      ]
     },
     "execution_count": 18,
     "metadata": {},
     "output_type": "execute_result"
    }
   ],
   "source": [
    "le.transform([\"Test Drive Car\"])"
   ]
  },
  {
   "cell_type": "code",
   "execution_count": 19,
   "metadata": {},
   "outputs": [
    {
     "name": "stdout",
     "output_type": "stream",
     "text": [
      "[1 3 5 2 4] 8033\n",
      "[1 5 2 4] 5960\n"
     ]
    }
   ],
   "source": [
    "print(df_filtered['owner'].unique(), df_filtered['owner'].count()) #the owner feature before we delete Test drive car\n",
    "df_filteredd = df_filtered[df_filtered['owner'] != 3] #we know Test drive car is map to 3\n",
    "print(df_filteredd['owner'].unique(), df_filteredd['owner'].count()) #the owner after deleted"
   ]
  },
  {
   "cell_type": "markdown",
   "metadata": {},
   "source": [
    "- Since selling price is a big number, it can cause your prediction to be very unstable. One trick\n",
    "is to first transform the label using log transform, i.e.,"
   ]
  },
  {
   "cell_type": "code",
   "execution_count": 20,
   "metadata": {},
   "outputs": [
    {
     "name": "stderr",
     "output_type": "stream",
     "text": [
      "C:\\Users\\earth\\AppData\\Local\\Temp\\ipykernel_24812\\2761593400.py:1: SettingWithCopyWarning: \n",
      "A value is trying to be set on a copy of a slice from a DataFrame.\n",
      "Try using .loc[row_indexer,col_indexer] = value instead\n",
      "\n",
      "See the caveats in the documentation: https://pandas.pydata.org/pandas-docs/stable/user_guide/indexing.html#returning-a-view-versus-a-copy\n",
      "  df_filteredd['selling_price'] = np.log(df_filteredd['selling_price'])\n"
     ]
    }
   ],
   "source": [
    "df_filteredd['selling_price'] = np.log(df_filteredd['selling_price'])"
   ]
  },
  {
   "cell_type": "markdown",
   "metadata": {},
   "source": [
    "Finally this is a clean data after do following step."
   ]
  },
  {
   "cell_type": "code",
   "execution_count": 21,
   "metadata": {},
   "outputs": [
    {
     "data": {
      "text/html": [
       "<div>\n",
       "<style scoped>\n",
       "    .dataframe tbody tr th:only-of-type {\n",
       "        vertical-align: middle;\n",
       "    }\n",
       "\n",
       "    .dataframe tbody tr th {\n",
       "        vertical-align: top;\n",
       "    }\n",
       "\n",
       "    .dataframe thead th {\n",
       "        text-align: right;\n",
       "    }\n",
       "</style>\n",
       "<table border=\"1\" class=\"dataframe\">\n",
       "  <thead>\n",
       "    <tr style=\"text-align: right;\">\n",
       "      <th></th>\n",
       "      <th>name</th>\n",
       "      <th>year</th>\n",
       "      <th>selling_price</th>\n",
       "      <th>km_driven</th>\n",
       "      <th>fuel</th>\n",
       "      <th>seller_type</th>\n",
       "      <th>transmission</th>\n",
       "      <th>owner</th>\n",
       "      <th>mileage</th>\n",
       "      <th>engine</th>\n",
       "      <th>max_power</th>\n",
       "      <th>seats</th>\n",
       "    </tr>\n",
       "  </thead>\n",
       "  <tbody>\n",
       "    <tr>\n",
       "      <th>0</th>\n",
       "      <td>Maruti</td>\n",
       "      <td>2014</td>\n",
       "      <td>13.017003</td>\n",
       "      <td>145500</td>\n",
       "      <td>Diesel</td>\n",
       "      <td>Individual</td>\n",
       "      <td>Manual</td>\n",
       "      <td>1</td>\n",
       "      <td>23.40</td>\n",
       "      <td>1248.0</td>\n",
       "      <td>74.00</td>\n",
       "      <td>5.0</td>\n",
       "    </tr>\n",
       "    <tr>\n",
       "      <th>2</th>\n",
       "      <td>Honda</td>\n",
       "      <td>2006</td>\n",
       "      <td>11.970350</td>\n",
       "      <td>140000</td>\n",
       "      <td>Petrol</td>\n",
       "      <td>Individual</td>\n",
       "      <td>Manual</td>\n",
       "      <td>5</td>\n",
       "      <td>17.70</td>\n",
       "      <td>1497.0</td>\n",
       "      <td>78.00</td>\n",
       "      <td>5.0</td>\n",
       "    </tr>\n",
       "    <tr>\n",
       "      <th>3</th>\n",
       "      <td>Hyundai</td>\n",
       "      <td>2010</td>\n",
       "      <td>12.323856</td>\n",
       "      <td>127000</td>\n",
       "      <td>Diesel</td>\n",
       "      <td>Individual</td>\n",
       "      <td>Manual</td>\n",
       "      <td>1</td>\n",
       "      <td>23.00</td>\n",
       "      <td>1396.0</td>\n",
       "      <td>90.00</td>\n",
       "      <td>5.0</td>\n",
       "    </tr>\n",
       "    <tr>\n",
       "      <th>4</th>\n",
       "      <td>Maruti</td>\n",
       "      <td>2007</td>\n",
       "      <td>11.775290</td>\n",
       "      <td>120000</td>\n",
       "      <td>Petrol</td>\n",
       "      <td>Individual</td>\n",
       "      <td>Manual</td>\n",
       "      <td>1</td>\n",
       "      <td>16.10</td>\n",
       "      <td>1298.0</td>\n",
       "      <td>88.20</td>\n",
       "      <td>5.0</td>\n",
       "    </tr>\n",
       "    <tr>\n",
       "      <th>5</th>\n",
       "      <td>Hyundai</td>\n",
       "      <td>2017</td>\n",
       "      <td>12.994530</td>\n",
       "      <td>45000</td>\n",
       "      <td>Petrol</td>\n",
       "      <td>Individual</td>\n",
       "      <td>Manual</td>\n",
       "      <td>1</td>\n",
       "      <td>20.14</td>\n",
       "      <td>1197.0</td>\n",
       "      <td>81.86</td>\n",
       "      <td>5.0</td>\n",
       "    </tr>\n",
       "  </tbody>\n",
       "</table>\n",
       "</div>"
      ],
      "text/plain": [
       "      name  year  selling_price  km_driven    fuel seller_type transmission  \\\n",
       "0   Maruti  2014      13.017003     145500  Diesel  Individual       Manual   \n",
       "2    Honda  2006      11.970350     140000  Petrol  Individual       Manual   \n",
       "3  Hyundai  2010      12.323856     127000  Diesel  Individual       Manual   \n",
       "4   Maruti  2007      11.775290     120000  Petrol  Individual       Manual   \n",
       "5  Hyundai  2017      12.994530      45000  Petrol  Individual       Manual   \n",
       "\n",
       "   owner  mileage  engine  max_power  seats  \n",
       "0      1    23.40  1248.0      74.00    5.0  \n",
       "2      5    17.70  1497.0      78.00    5.0  \n",
       "3      1    23.00  1396.0      90.00    5.0  \n",
       "4      1    16.10  1298.0      88.20    5.0  \n",
       "5      1    20.14  1197.0      81.86    5.0  "
      ]
     },
     "execution_count": 21,
     "metadata": {},
     "output_type": "execute_result"
    }
   ],
   "source": [
    "df_filteredd.head() "
   ]
  },
  {
   "cell_type": "code",
   "execution_count": 22,
   "metadata": {},
   "outputs": [
    {
     "data": {
      "text/html": [
       "<div>\n",
       "<style scoped>\n",
       "    .dataframe tbody tr th:only-of-type {\n",
       "        vertical-align: middle;\n",
       "    }\n",
       "\n",
       "    .dataframe tbody tr th {\n",
       "        vertical-align: top;\n",
       "    }\n",
       "\n",
       "    .dataframe thead th {\n",
       "        text-align: right;\n",
       "    }\n",
       "</style>\n",
       "<table border=\"1\" class=\"dataframe\">\n",
       "  <thead>\n",
       "    <tr style=\"text-align: right;\">\n",
       "      <th></th>\n",
       "      <th>year</th>\n",
       "      <th>selling_price</th>\n",
       "      <th>km_driven</th>\n",
       "      <th>owner</th>\n",
       "      <th>mileage</th>\n",
       "      <th>engine</th>\n",
       "      <th>max_power</th>\n",
       "      <th>seats</th>\n",
       "    </tr>\n",
       "  </thead>\n",
       "  <tbody>\n",
       "    <tr>\n",
       "      <th>count</th>\n",
       "      <td>5960.000000</td>\n",
       "      <td>5960.000000</td>\n",
       "      <td>5.960000e+03</td>\n",
       "      <td>5960.000000</td>\n",
       "      <td>5831.000000</td>\n",
       "      <td>5831.000000</td>\n",
       "      <td>5837.000000</td>\n",
       "      <td>5831.000000</td>\n",
       "    </tr>\n",
       "    <tr>\n",
       "      <th>mean</th>\n",
       "      <td>2014.561074</td>\n",
       "      <td>13.105088</td>\n",
       "      <td>6.268093e+04</td>\n",
       "      <td>1.398154</td>\n",
       "      <td>19.637210</td>\n",
       "      <td>1456.294461</td>\n",
       "      <td>93.591889</td>\n",
       "      <td>5.401475</td>\n",
       "    </tr>\n",
       "    <tr>\n",
       "      <th>std</th>\n",
       "      <td>3.835775</td>\n",
       "      <td>0.836889</td>\n",
       "      <td>4.965373e+04</td>\n",
       "      <td>1.160271</td>\n",
       "      <td>3.998052</td>\n",
       "      <td>496.104314</td>\n",
       "      <td>37.144458</td>\n",
       "      <td>0.944711</td>\n",
       "    </tr>\n",
       "    <tr>\n",
       "      <th>min</th>\n",
       "      <td>1983.000000</td>\n",
       "      <td>10.308919</td>\n",
       "      <td>1.000000e+03</td>\n",
       "      <td>1.000000</td>\n",
       "      <td>0.000000</td>\n",
       "      <td>624.000000</td>\n",
       "      <td>0.000000</td>\n",
       "      <td>2.000000</td>\n",
       "    </tr>\n",
       "    <tr>\n",
       "      <th>25%</th>\n",
       "      <td>2012.000000</td>\n",
       "      <td>12.611538</td>\n",
       "      <td>2.809500e+04</td>\n",
       "      <td>1.000000</td>\n",
       "      <td>16.950000</td>\n",
       "      <td>1197.000000</td>\n",
       "      <td>70.000000</td>\n",
       "      <td>5.000000</td>\n",
       "    </tr>\n",
       "    <tr>\n",
       "      <th>50%</th>\n",
       "      <td>2016.000000</td>\n",
       "      <td>13.122363</td>\n",
       "      <td>5.458500e+04</td>\n",
       "      <td>1.000000</td>\n",
       "      <td>19.610000</td>\n",
       "      <td>1248.000000</td>\n",
       "      <td>83.140000</td>\n",
       "      <td>5.000000</td>\n",
       "    </tr>\n",
       "    <tr>\n",
       "      <th>75%</th>\n",
       "      <td>2017.000000</td>\n",
       "      <td>13.507626</td>\n",
       "      <td>9.000000e+04</td>\n",
       "      <td>1.000000</td>\n",
       "      <td>22.540000</td>\n",
       "      <td>1582.000000</td>\n",
       "      <td>103.500000</td>\n",
       "      <td>5.000000</td>\n",
       "    </tr>\n",
       "    <tr>\n",
       "      <th>max</th>\n",
       "      <td>2020.000000</td>\n",
       "      <td>16.118096</td>\n",
       "      <td>1.500000e+06</td>\n",
       "      <td>5.000000</td>\n",
       "      <td>42.000000</td>\n",
       "      <td>3604.000000</td>\n",
       "      <td>400.000000</td>\n",
       "      <td>14.000000</td>\n",
       "    </tr>\n",
       "  </tbody>\n",
       "</table>\n",
       "</div>"
      ],
      "text/plain": [
       "              year  selling_price     km_driven        owner      mileage  \\\n",
       "count  5960.000000    5960.000000  5.960000e+03  5960.000000  5831.000000   \n",
       "mean   2014.561074      13.105088  6.268093e+04     1.398154    19.637210   \n",
       "std       3.835775       0.836889  4.965373e+04     1.160271     3.998052   \n",
       "min    1983.000000      10.308919  1.000000e+03     1.000000     0.000000   \n",
       "25%    2012.000000      12.611538  2.809500e+04     1.000000    16.950000   \n",
       "50%    2016.000000      13.122363  5.458500e+04     1.000000    19.610000   \n",
       "75%    2017.000000      13.507626  9.000000e+04     1.000000    22.540000   \n",
       "max    2020.000000      16.118096  1.500000e+06     5.000000    42.000000   \n",
       "\n",
       "            engine    max_power        seats  \n",
       "count  5831.000000  5837.000000  5831.000000  \n",
       "mean   1456.294461    93.591889     5.401475  \n",
       "std     496.104314    37.144458     0.944711  \n",
       "min     624.000000     0.000000     2.000000  \n",
       "25%    1197.000000    70.000000     5.000000  \n",
       "50%    1248.000000    83.140000     5.000000  \n",
       "75%    1582.000000   103.500000     5.000000  \n",
       "max    3604.000000   400.000000    14.000000  "
      ]
     },
     "execution_count": 22,
     "metadata": {},
     "output_type": "execute_result"
    }
   ],
   "source": [
    "df_filteredd.describe()"
   ]
  },
  {
   "cell_type": "code",
   "execution_count": 23,
   "metadata": {},
   "outputs": [
    {
     "name": "stdout",
     "output_type": "stream",
     "text": [
      "<class 'pandas.core.frame.DataFrame'>\n",
      "Int64Index: 5960 entries, 0 to 8127\n",
      "Data columns (total 12 columns):\n",
      " #   Column         Non-Null Count  Dtype  \n",
      "---  ------         --------------  -----  \n",
      " 0   name           5960 non-null   object \n",
      " 1   year           5960 non-null   int64  \n",
      " 2   selling_price  5960 non-null   float64\n",
      " 3   km_driven      5960 non-null   int64  \n",
      " 4   fuel           5960 non-null   object \n",
      " 5   seller_type    5960 non-null   object \n",
      " 6   transmission   5960 non-null   object \n",
      " 7   owner          5960 non-null   int32  \n",
      " 8   mileage        5831 non-null   float64\n",
      " 9   engine         5831 non-null   float64\n",
      " 10  max_power      5837 non-null   float64\n",
      " 11  seats          5831 non-null   float64\n",
      "dtypes: float64(5), int32(1), int64(2), object(4)\n",
      "memory usage: 582.0+ KB\n"
     ]
    }
   ],
   "source": [
    "df_filteredd.info()"
   ]
  },
  {
   "cell_type": "markdown",
   "metadata": {},
   "source": [
    "## 2. Exploratory Data Analysis\n",
    "\n",
    "EDA is an essential step to inspect the data, so to better understand nature of the given data."
   ]
  },
  {
   "cell_type": "markdown",
   "metadata": {},
   "source": [
    "### Boxplot"
   ]
  },
  {
   "cell_type": "code",
   "execution_count": 24,
   "metadata": {},
   "outputs": [
    {
     "data": {
      "text/plain": [
       "<AxesSubplot:xlabel='seats', ylabel='count'>"
      ]
     },
     "execution_count": 24,
     "metadata": {},
     "output_type": "execute_result"
    },
    {
     "data": {
      "image/png": "[encoded data removed]",
      "text/plain": [
       "<Figure size 432x288 with 1 Axes>"
      ]
     },
     "metadata": {
      "needs_background": "light"
     },
     "output_type": "display_data"
    }
   ],
   "source": [
    "# most of data in this datasets is 5 seats car.\n",
    "sns.countplot(data = df_filteredd, x = 'seats')"
   ]
  },
  {
   "cell_type": "code",
   "execution_count": 25,
   "metadata": {},
   "outputs": [
    {
     "data": {
      "text/plain": [
       "<AxesSubplot:xlabel='transmission', ylabel='count'>"
      ]
     },
     "execution_count": 25,
     "metadata": {},
     "output_type": "execute_result"
    },
    {
     "data": {
      "image/png": "[encoded data removed]",
      "text/plain": [
       "<Figure size 432x288 with 1 Axes>"
      ]
     },
     "metadata": {
      "needs_background": "light"
     },
     "output_type": "display_data"
    }
   ],
   "source": [
    "sns.countplot(data = df_filteredd, x = 'transmission')"
   ]
  },
  {
   "cell_type": "code",
   "execution_count": 26,
   "metadata": {},
   "outputs": [
    {
     "data": {
      "text/plain": [
       "<AxesSubplot:xlabel='seller_type', ylabel='count'>"
      ]
     },
     "execution_count": 26,
     "metadata": {},
     "output_type": "execute_result"
    },
    {
     "data": {
      "image/png": "[encoded data removed]",
      "text/plain": [
       "<Figure size 432x288 with 1 Axes>"
      ]
     },
     "metadata": {
      "needs_background": "light"
     },
     "output_type": "display_data"
    }
   ],
   "source": [
    "sns.countplot(data = df_filteredd, x = 'seller_type')"
   ]
  },
  {
   "cell_type": "markdown",
   "metadata": {},
   "source": [
    "#### Correlation Matrix\n",
    "\n",
    "Let's use correlation matrix to find strong factors predicting the life expectancy.  It's also for checking whether certain features are too correlated."
   ]
  },
  {
   "cell_type": "code",
   "execution_count": 27,
   "metadata": {},
   "outputs": [
    {
     "data": {
      "text/plain": [
       "<AxesSubplot:>"
      ]
     },
     "execution_count": 27,
     "metadata": {},
     "output_type": "execute_result"
    },
    {
     "data": {
      "image/png": "[encoded data removed]",
      "text/plain": [
       "<Figure size 1080x576 with 2 Axes>"
      ]
     },
     "metadata": {
      "needs_background": "light"
     },
     "output_type": "display_data"
    }
   ],
   "source": [
    "filtered_corr = df_filteredd.corr()\n",
    "plt.figure(figsize = (15,8))\n",
    "sns.heatmap(filtered_corr,  annot=True, cmap=\"coolwarm\")"
   ]
  },
  {
   "cell_type": "code",
   "execution_count": 28,
   "metadata": {},
   "outputs": [
    {
     "data": {
      "text/plain": [
       "<AxesSubplot:xlabel='x', ylabel='y'>"
      ]
     },
     "execution_count": 28,
     "metadata": {},
     "output_type": "execute_result"
    },
    {
     "data": {
      "image/png": "[encoded data removed]",
      "text/plain": [
       "<Figure size 1080x576 with 2 Axes>"
      ]
     },
     "metadata": {
      "needs_background": "light"
     },
     "output_type": "display_data"
    }
   ],
   "source": [
    "import ppscore as pps\n",
    "\n",
    "# before using pps, let's drop country and year\n",
    "dfcopy = df_filteredd.copy()\n",
    "dfcopy.drop([ 'transmission', 'name', 'seller_type', 'fuel'], axis='columns', inplace=True)\n",
    "\n",
    "#this needs some minor preprocessing because seaborn.heatmap unfortunately does not accept tidy data\n",
    "matrix_df = pps.matrix(dfcopy)[['x', 'y', 'ppscore']].pivot(columns='x', index='y', values='ppscore')\n",
    "\n",
    "#plot\n",
    "plt.figure(figsize = (15,8))\n",
    "sns.heatmap(matrix_df, vmin=0, vmax=1, cmap=\"Blues\", linewidths=0.5, annot=True)"
   ]
  },
  {
   "cell_type": "markdown",
   "metadata": {},
   "source": [
    "## 3. Feature selection"
   ]
  },
  {
   "cell_type": "code",
   "execution_count": 29,
   "metadata": {},
   "outputs": [],
   "source": [
    "X = dfcopy[['engine', 'max_power', 'year']]\n",
    "y = dfcopy[\"selling_price\"]"
   ]
  },
  {
   "cell_type": "code",
   "execution_count": 30,
   "metadata": {},
   "outputs": [],
   "source": [
    "from sklearn.model_selection import train_test_split\n",
    "\n",
    "X_train, X_test, y_train, y_test = train_test_split(X, y, test_size = 0.3, random_state = 99)"
   ]
  },
  {
   "cell_type": "code",
   "execution_count": 31,
   "metadata": {},
   "outputs": [
    {
     "data": {
      "text/plain": [
       "engine       98\n",
       "max_power    95\n",
       "year          0\n",
       "dtype: int64"
      ]
     },
     "execution_count": 31,
     "metadata": {},
     "output_type": "execute_result"
    }
   ],
   "source": [
    "X_train[['engine', 'max_power', 'year']].isna().sum()"
   ]
  },
  {
   "cell_type": "code",
   "execution_count": 32,
   "metadata": {},
   "outputs": [
    {
     "data": {
      "text/plain": [
       "engine       31\n",
       "max_power    28\n",
       "year          0\n",
       "dtype: int64"
      ]
     },
     "execution_count": 32,
     "metadata": {},
     "output_type": "execute_result"
    }
   ],
   "source": [
    "X_test[['engine', 'max_power', 'year']].isna().sum()"
   ]
  },
  {
   "cell_type": "code",
   "execution_count": 33,
   "metadata": {},
   "outputs": [
    {
     "data": {
      "text/plain": [
       "<seaborn.axisgrid.FacetGrid at 0x1a10ee2bf70>"
      ]
     },
     "execution_count": 33,
     "metadata": {},
     "output_type": "execute_result"
    },
    {
     "data": {
      "image/png": "[encoded data removed]",
      "text/plain": [
       "<Figure size 360x360 with 1 Axes>"
      ]
     },
     "metadata": {
      "needs_background": "light"
     },
     "output_type": "display_data"
    }
   ],
   "source": [
    "sns.displot(data=dfcopy, x='engine')"
   ]
  },
  {
   "cell_type": "code",
   "execution_count": 34,
   "metadata": {},
   "outputs": [
    {
     "name": "stdout",
     "output_type": "stream",
     "text": [
      "Mode (value with highest count): 1248.0\n"
     ]
    }
   ],
   "source": [
    "mode_value = dfcopy['engine'].mode()[0]\n",
    "print(\"Mode (value with highest count):\", mode_value)"
   ]
  },
  {
   "cell_type": "code",
   "execution_count": 35,
   "metadata": {},
   "outputs": [
    {
     "data": {
      "text/plain": [
       "1248.0"
      ]
     },
     "execution_count": 35,
     "metadata": {},
     "output_type": "execute_result"
    }
   ],
   "source": [
    "dfcopy['engine'].median()"
   ]
  },
  {
   "cell_type": "code",
   "execution_count": 36,
   "metadata": {},
   "outputs": [
    {
     "data": {
      "text/plain": [
       "<seaborn.axisgrid.FacetGrid at 0x1a10f765be0>"
      ]
     },
     "execution_count": 36,
     "metadata": {},
     "output_type": "execute_result"
    },
    {
     "data": {
      "image/png": "[encoded data removed]",
      "text/plain": [
       "<Figure size 360x360 with 1 Axes>"
      ]
     },
     "metadata": {
      "needs_background": "light"
     },
     "output_type": "display_data"
    }
   ],
   "source": [
    "sns.displot(data=dfcopy, x='engine')"
   ]
  },
  {
   "cell_type": "code",
   "execution_count": 37,
   "metadata": {},
   "outputs": [
    {
     "name": "stdout",
     "output_type": "stream",
     "text": [
      "Mode (value with highest count): 1248.0\n"
     ]
    }
   ],
   "source": [
    "mode_value = dfcopy['engine'].mode()[0]\n",
    "print(\"Mode (value with highest count):\", mode_value)"
   ]
  },
  {
   "cell_type": "code",
   "execution_count": 38,
   "metadata": {},
   "outputs": [
    {
     "data": {
      "text/plain": [
       "1248.0"
      ]
     },
     "execution_count": 38,
     "metadata": {},
     "output_type": "execute_result"
    }
   ],
   "source": [
    "dfcopy['engine'].median()"
   ]
  },
  {
   "cell_type": "code",
   "execution_count": 39,
   "metadata": {},
   "outputs": [
    {
     "data": {
      "text/plain": [
       "<seaborn.axisgrid.FacetGrid at 0x1a10f6168e0>"
      ]
     },
     "execution_count": 39,
     "metadata": {},
     "output_type": "execute_result"
    },
    {
     "data": {
      "image/png": "[encoded data removed]",
      "text/plain": [
       "<Figure size 360x360 with 1 Axes>"
      ]
     },
     "metadata": {
      "needs_background": "light"
     },
     "output_type": "display_data"
    }
   ],
   "source": [
    "sns.displot(data=dfcopy, x='max_power')"
   ]
  },
  {
   "cell_type": "code",
   "execution_count": 40,
   "metadata": {},
   "outputs": [
    {
     "name": "stdout",
     "output_type": "stream",
     "text": [
      "Mode (value with highest count): 74.0\n"
     ]
    }
   ],
   "source": [
    "mode_value = dfcopy['max_power'].mode()[0]\n",
    "print(\"Mode (value with highest count):\", mode_value)"
   ]
  },
  {
   "cell_type": "code",
   "execution_count": 41,
   "metadata": {},
   "outputs": [
    {
     "data": {
      "text/plain": [
       "83.14"
      ]
     },
     "execution_count": 41,
     "metadata": {},
     "output_type": "execute_result"
    }
   ],
   "source": [
    "dfcopy['max_power'].median()"
   ]
  },
  {
   "cell_type": "code",
   "execution_count": 42,
   "metadata": {},
   "outputs": [
    {
     "data": {
      "text/plain": [
       "93.59188881274628"
      ]
     },
     "execution_count": 42,
     "metadata": {},
     "output_type": "execute_result"
    }
   ],
   "source": [
    "dfcopy['max_power'].mean()"
   ]
  },
  {
   "cell_type": "code",
   "execution_count": 43,
   "metadata": {},
   "outputs": [
    {
     "data": {
      "text/plain": [
       "<seaborn.axisgrid.FacetGrid at 0x1a10f7a5550>"
      ]
     },
     "execution_count": 43,
     "metadata": {},
     "output_type": "execute_result"
    },
    {
     "data": {
      "image/png": "[encoded data removed]",
      "text/plain": [
       "<Figure size 360x360 with 1 Axes>"
      ]
     },
     "metadata": {
      "needs_background": "light"
     },
     "output_type": "display_data"
    }
   ],
   "source": [
    "sns.displot(data=dfcopy, x='year')"
   ]
  },
  {
   "cell_type": "code",
   "execution_count": 44,
   "metadata": {},
   "outputs": [
    {
     "name": "stdout",
     "output_type": "stream",
     "text": [
      "Mode (value with highest count): 2017\n"
     ]
    }
   ],
   "source": [
    "mode_value = dfcopy['year'].mode()[0]\n",
    "print(\"Mode (value with highest count):\", mode_value)"
   ]
  },
  {
   "cell_type": "code",
   "execution_count": 45,
   "metadata": {},
   "outputs": [
    {
     "data": {
      "text/plain": [
       "2016.0"
      ]
     },
     "execution_count": 45,
     "metadata": {},
     "output_type": "execute_result"
    }
   ],
   "source": [
    "dfcopy['year'].median()"
   ]
  },
  {
   "cell_type": "code",
   "execution_count": 46,
   "metadata": {},
   "outputs": [],
   "source": [
    "X_train['engine'].fillna(X_train['engine'].median(), inplace=True)\n",
    "X_train['max_power'].fillna(X_train['max_power'].median(), inplace=True)\n",
    "X_train['year'].fillna(X_train['year'].median(), inplace=True)"
   ]
  },
  {
   "cell_type": "code",
   "execution_count": 47,
   "metadata": {},
   "outputs": [],
   "source": [
    "X_test['engine'].fillna(X_test['engine'].median(), inplace=True)\n",
    "X_test['max_power'].fillna(X_test['max_power'].median(), inplace=True)\n",
    "X_test['year'].fillna(X_test['year'].median(), inplace=True)"
   ]
  },
  {
   "cell_type": "code",
   "execution_count": 48,
   "metadata": {},
   "outputs": [
    {
     "data": {
      "text/plain": [
       "engine       0\n",
       "max_power    0\n",
       "year         0\n",
       "dtype: int64"
      ]
     },
     "execution_count": 48,
     "metadata": {},
     "output_type": "execute_result"
    }
   ],
   "source": [
    "X_train[['engine', 'max_power', 'year']].isna().sum()"
   ]
  },
  {
   "cell_type": "code",
   "execution_count": 49,
   "metadata": {},
   "outputs": [
    {
     "data": {
      "text/plain": [
       "engine       0\n",
       "max_power    0\n",
       "year         0\n",
       "dtype: int64"
      ]
     },
     "execution_count": 49,
     "metadata": {},
     "output_type": "execute_result"
    }
   ],
   "source": [
    "X_test[['engine', 'max_power', 'year']].isna().sum()"
   ]
  },
  {
   "cell_type": "markdown",
   "metadata": {},
   "source": [
    "#### Check the outliner"
   ]
  },
  {
   "cell_type": "code",
   "execution_count": 50,
   "metadata": {},
   "outputs": [
    {
     "data": {
      "image/png": "[encoded data removed]",
      "text/plain": [
       "<Figure size 1440x3600 with 3 Axes>"
      ]
     },
     "metadata": {
      "needs_background": "light"
     },
     "output_type": "display_data"
    }
   ],
   "source": [
    "# Create a dictionary of columns.\n",
    "col_dict = {'engine':1,'max_power':2,'year':3}\n",
    "\n",
    "# Detect outliers in each variable using box plots.\n",
    "plt.figure(figsize=(20,50))\n",
    "\n",
    "for variable,i in col_dict.items():\n",
    "                     plt.subplot(5,4,i)\n",
    "                     plt.boxplot(X_train[variable])\n",
    "                     plt.title(variable)\n",
    "\n",
    "plt.show()"
   ]
  },
  {
   "cell_type": "code",
   "execution_count": 51,
   "metadata": {},
   "outputs": [],
   "source": [
    "def outlier_count(col, data = X_train):\n",
    "    \n",
    "    # calculate your 25% quatile and 75% quatile\n",
    "    q75, q25 = np.percentile(data[col], [75, 25])\n",
    "    \n",
    "    # calculate your inter quatile\n",
    "    iqr = q75 - q25\n",
    "    \n",
    "    # min_val and max_val\n",
    "    min_val = q25 - (iqr*1.5)\n",
    "    max_val = q75 + (iqr*1.5)\n",
    "    \n",
    "    # count number of outliers, which are the data that are less than min_val or more than max_val calculated above\n",
    "    outlier_count = len(np.where((data[col] > max_val) | (data[col] < min_val))[0])\n",
    "    \n",
    "    # calculate the percentage of the outliers\n",
    "    outlier_percent = round(outlier_count/len(data[col])*100, 2)\n",
    "    \n",
    "    if(outlier_count > 0):\n",
    "        print(\"\\n\"+15*'-' + col + 15*'-'+\"\\n\")\n",
    "        print('Number of outliers: {}'.format(outlier_count))\n",
    "        print('Percent of data that is outlier: {}%'.format(outlier_percent))"
   ]
  },
  {
   "cell_type": "code",
   "execution_count": 52,
   "metadata": {},
   "outputs": [
    {
     "name": "stdout",
     "output_type": "stream",
     "text": [
      "\n",
      "---------------engine---------------\n",
      "\n",
      "Number of outliers: 611\n",
      "Percent of data that is outlier: 14.65%\n",
      "\n",
      "---------------max_power---------------\n",
      "\n",
      "Number of outliers: 353\n",
      "Percent of data that is outlier: 8.46%\n",
      "\n",
      "---------------year---------------\n",
      "\n",
      "Number of outliers: 91\n",
      "Percent of data that is outlier: 2.18%\n"
     ]
    }
   ],
   "source": [
    "for col in X_train.columns:\n",
    "    outlier_count(col)"
   ]
  },
  {
   "cell_type": "markdown",
   "metadata": {},
   "source": [
    "## 4.Preprocessing"
   ]
  },
  {
   "cell_type": "markdown",
   "metadata": {},
   "source": [
    "#### Scaler"
   ]
  },
  {
   "cell_type": "code",
   "execution_count": 56,
   "metadata": {},
   "outputs": [],
   "source": [
    "from sklearn.preprocessing import StandardScaler\n",
    "from sklearn.preprocessing import PolynomialFeatures\n",
    "import pickle as pkl"
   ]
  },
  {
   "cell_type": "code",
   "execution_count": 57,
   "metadata": {},
   "outputs": [],
   "source": [
    "X_train_poly = X_train.copy()\n",
    "X_test_poly = X_test.copy()"
   ]
  },
  {
   "cell_type": "code",
   "execution_count": 58,
   "metadata": {},
   "outputs": [],
   "source": [
    "X_train_poly  = PolynomialFeatures(degree = 2, include_bias=False).fit_transform(X_train_poly)\n",
    "X_test_poly  = PolynomialFeatures(degree = 2, include_bias=False).fit_transform(X_test_poly)\n",
    "\n",
    "scaler_potly = StandardScaler()\n",
    "X_train_poly = scaler_potly.fit_transform(X_train_poly)\n",
    "X_test_poly  = scaler_potly.transform(X_test_poly)\n",
    "\n",
    "intercept = np.ones((X_train_poly.shape[0], 1))\n",
    "X_train_poly   = np.concatenate((intercept, X_train_poly), axis=1)\n",
    "intercept = np.ones((X_test_poly.shape[0], 1))\n",
    "X_test_poly    = np.concatenate((intercept, X_test_poly), axis=1)"
   ]
  },
  {
   "cell_type": "code",
   "execution_count": 60,
   "metadata": {},
   "outputs": [
    {
     "data": {
      "text/plain": [
       "(4172, 10)"
      ]
     },
     "execution_count": 60,
     "metadata": {},
     "output_type": "execute_result"
    }
   ],
   "source": [
    "X_train_poly.shape"
   ]
  },
  {
   "cell_type": "code",
   "execution_count": 61,
   "metadata": {},
   "outputs": [],
   "source": [
    "with open (\"scaler_poly.pkl\", \"wb\") as file :\n",
    "    pkl.dump(scaler_potly, file)"
   ]
  },
  {
   "cell_type": "code",
   "execution_count": 62,
   "metadata": {},
   "outputs": [],
   "source": [
    "# feature scaling helps improve reach convergence faster\n",
    "scaler = StandardScaler()\n",
    "X_train = scaler.fit_transform(X_train)\n",
    "X_test  = scaler.transform(X_test)"
   ]
  },
  {
   "cell_type": "code",
   "execution_count": 66,
   "metadata": {},
   "outputs": [],
   "source": [
    "with open (\"scaler.pkl\", \"wb\") as file :\n",
    "    pkl.dump(scaler, file)"
   ]
  },
  {
   "cell_type": "code",
   "execution_count": 63,
   "metadata": {},
   "outputs": [
    {
     "name": "stdout",
     "output_type": "stream",
     "text": [
      "Shape of X_train:  (4172, 3)\n",
      "Shape of X_test:  (1788, 3)\n",
      "Shape of y_train:  (4172,)\n",
      "Shape of y_test:  (1788,)\n"
     ]
    }
   ],
   "source": [
    "print(\"Shape of X_train: \", X_train.shape)\n",
    "print(\"Shape of X_test: \", X_test.shape)\n",
    "print(\"Shape of y_train: \", y_train.shape)\n",
    "print(\"Shape of y_test: \", y_test.shape)"
   ]
  },
  {
   "cell_type": "code",
   "execution_count": 64,
   "metadata": {},
   "outputs": [],
   "source": [
    "y_train = y_train.values\n",
    "y_test = y_test.values"
   ]
  },
  {
   "cell_type": "code",
   "execution_count": 65,
   "metadata": {},
   "outputs": [],
   "source": [
    "intercept = np.ones((X_train.shape[0], 1))\n",
    "X_train   = np.concatenate((intercept, X_train), axis=1)\n",
    "intercept = np.ones((X_test.shape[0], 1))\n",
    "X_test    = np.concatenate((intercept, X_test), axis=1)"
   ]
  },
  {
   "cell_type": "code",
   "execution_count": 60,
   "metadata": {},
   "outputs": [
    {
     "name": "stderr",
     "output_type": "stream",
     "text": [
      "2023/09/13 22:44:14 INFO mlflow.tracking.fluent: Experiment with name 'experiment_1_ml' does not exist. Creating a new experiment.\n"
     ]
    },
    {
     "data": {
      "text/plain": [
       "<Experiment: artifact_location='mlflow-artifacts:/635658241441554693', creation_time=1694619854682, experiment_id='635658241441554693', last_update_time=1694619854682, lifecycle_stage='active', name='experiment_1_ml', tags={}>"
      ]
     },
     "execution_count": 60,
     "metadata": {},
     "output_type": "execute_result"
    }
   ],
   "source": [
    "#experiment tracking\n",
    "import mlflow\n",
    "import os\n",
    "# This the dockerized method.\n",
    "# We build two docker containers, one for python/jupyter and another for mlflow.\n",
    "# The url `mlflow` is resolved into another container within the same composer.\n",
    "mlflow.set_tracking_uri(\"http://localhost:5000\")\n",
    "# In the dockerized way, the user who runs this code will be `root`.\n",
    "# The MLflow will also log the run user_id as `root`.\n",
    "# To change that, we need to set this environ[\"LOGNAME\"] to your name.\n",
    "os.environ[\"LOGNAME\"] = \"Earth\"\n",
    "# mlflow.create_experiment(name=\"chaky-diabetes-example\")  #create if you haven't create\n",
    "mlflow.set_experiment(experiment_name=\"experiment_1_ml\")"
   ]
  },
  {
   "cell_type": "markdown",
   "metadata": {},
   "source": [
    "## 5.Modeling"
   ]
  },
  {
   "cell_type": "code",
   "execution_count": 61,
   "metadata": {},
   "outputs": [],
   "source": [
    "from sklearn.model_selection import KFold\n",
    "import pandas as pd\n",
    "class LinearRegression(object):\n",
    "    \n",
    "    #in this class, we add cross validation as well for some spicy code....\n",
    "    kfold = KFold(n_splits=3)\n",
    "            \n",
    "    def __init__(self,regularization, lr=0.001,method='batch', num_epochs=1000, batch_size=254, cv=kfold):\n",
    "        self.lr         = lr\n",
    "        self.num_epochs = num_epochs\n",
    "        self.batch_size = batch_size\n",
    "        self.method     = method\n",
    "        self.cv         = cv\n",
    "        self.regularization = regularization\n",
    "        self.prev_step = 0\n",
    "        self.moment = True\n",
    "        # self.weight_init = weight_init\n",
    "\n",
    "    def r2 (self, ytrue, ypred) :\n",
    "        y_bar = np.mean(ytrue)\n",
    "        ssres = ((ypred - ytrue) ** 2).sum()\n",
    "        sstot = ((ypred - y_bar) ** 2).sum()\n",
    "\n",
    "        r2 = 1 - (ssres/sstot)\n",
    "        return r2\n",
    "    \n",
    "    def mse(self, ytrue, ypred):\n",
    "\n",
    "        return ((ypred - ytrue) ** 2).sum() / ytrue.shape[0]\n",
    "    \n",
    "    def xaviar (self, size) :\n",
    "        m = size\n",
    "        lower , upper = -(1.0 / np.sqrt(m)), (1.0 / np.sqrt(m))\n",
    "        numbers = np.random.rand(m)\n",
    "        scaled = lower + numbers * (upper - lower)\n",
    "        return scaled\n",
    "    \n",
    "    def fit(self, weight_init,moment ,X_train, y_train):\n",
    "            \n",
    "        #create a list of kfold scores\n",
    "        self.kfold_scores = list()\n",
    "        \n",
    "        #reset val loss\n",
    "        self.val_loss_old = np.infty\n",
    "\n",
    "        #kfold.split in the sklearn.....\n",
    "        for fold, (train_idx, val_idx) in enumerate(self.cv.split(X_train)):\n",
    "            \n",
    "            X_cross_train = X_train[train_idx]\n",
    "            y_cross_train = y_train[train_idx]\n",
    "            X_cross_val   = X_train[val_idx]\n",
    "            y_cross_val   = y_train[val_idx]\n",
    "            \n",
    "            if weight_init == 'zero' :\n",
    "                self.theta = np.zeros(X_cross_train.shape[1])\n",
    "            else :\n",
    "                self.theta = self.xaviar(X_cross_train.shape[1])  \n",
    "\n",
    "            if moment == True :\n",
    "                self.moment = True\n",
    "            else : \n",
    "                self.moment = False  \n",
    "            #define X_cross_train as only a subset of the data\n",
    "            #how big is this subset?  => mini-batch size ==> 50\n",
    "            \n",
    "            #one epoch will exhaust the WHOLE training set\n",
    "            with mlflow.start_run(run_name=f\"Fold-{fold}\", nested=True):\n",
    "                \n",
    "                params = {\"method\": self.method, \"lr\": self.lr, \"reg\": type(self).__name__}\n",
    "                mlflow.log_params(params=params)\n",
    "                \n",
    "                for epoch in range(self.num_epochs):\n",
    "                \n",
    "                    #with replacement or no replacement\n",
    "                    #with replacement means just randomize\n",
    "                    #with no replacement means 0:50, 51:100, 101:150, ......300:323\n",
    "                    #shuffle your index\n",
    "                    perm = np.random.permutation(X_cross_train.shape[0])\n",
    "                            \n",
    "                    X_cross_train = X_cross_train[perm]\n",
    "                    y_cross_train = y_cross_train[perm]\n",
    "                    \n",
    "                    if self.method == 'sto':\n",
    "                        for batch_idx in range(X_cross_train.shape[0]):\n",
    "                            X_method_train = X_cross_train[batch_idx].reshape(1, -1) #(11,) ==> (1, 11) ==> (m, n)\n",
    "                            y_method_train = y_cross_train[batch_idx] \n",
    "                            y_method_train = np.array([y_method_train])\n",
    "                            train_loss, train_loss_r2 = self._train(X_method_train, y_method_train)\n",
    "                    elif self.method == 'mini':\n",
    "                        for batch_idx in range(0, X_cross_train.shape[0], self.batch_size):\n",
    "                            X_method_train = X_cross_train[batch_idx:batch_idx+self.batch_size, :]\n",
    "                            y_method_train = y_cross_train[batch_idx:batch_idx+self.batch_size]\n",
    "                            train_loss, train_loss_r2 = self._train(X_method_train, y_method_train)\n",
    "                    else:\n",
    "                        X_method_train = X_cross_train\n",
    "                        y_method_train = y_cross_train\n",
    "                        train_loss, train_loss_r2 = self._train(X_method_train, y_method_train)\n",
    "\n",
    "\n",
    "                    mlflow.log_metric(key=\"train_loss\", value=train_loss, step=epoch)\n",
    "                    mlflow.log_metric(key=\"train_loss_r2\", value=train_loss_r2, step=epoch)\n",
    "\n",
    "                    yhat_val = self.predict(X_cross_val)\n",
    "                    val_loss_new = self.mse(y_cross_val, yhat_val)\n",
    "                    val_loss_new_r2 = self.r2(y_cross_val, yhat_val)\n",
    "                    mlflow.log_metric(key=\"val_loss_mse\", value=val_loss_new, step=epoch)\n",
    "                    mlflow.log_metric(key=\"val_loss_r2\", value=val_loss_new_r2, step=epoch)\n",
    "                    #record dataset\n",
    "                    \n",
    "                    #early stopping\n",
    "                    if np.allclose(val_loss_new, self.val_loss_old):\n",
    "                        break\n",
    "                    self.val_loss_old = val_loss_new\n",
    "            \n",
    "                self.kfold_scores.append(val_loss_new)\n",
    "                print(f\"Fold {fold}: mse: {val_loss_new} r2: {val_loss_new_r2}\")\n",
    "            \n",
    "    def update_weight(self, grad, moment) :\n",
    "        step = self.lr * grad\n",
    "        if moment == True :\n",
    "            tt = self.theta - step + 0.5 * self.prev_step\n",
    "        else :\n",
    "            tt = self.theta - self.lr * grad\n",
    "        return tt    \n",
    "\n",
    "    def _train(self, X, y):\n",
    "        yhat = self.predict(X)\n",
    "        m    = X.shape[0]        \n",
    "        grad = (1/m) * X.T @(yhat - y) + self.regularization.derivation(self.theta)\n",
    "        # self.theta = self.theta - self.lr * grad\n",
    "        self.theta = self.update_weight(grad, self.moment)\n",
    "        if self.method == 'sto' :\n",
    "            y = np.array([y])\n",
    "        return self.mse(y, yhat), self.r2(y, yhat)\n",
    "\n",
    "    def predict(self, X):\n",
    "        return X @ self.theta  #===>(m, n) @ (n, )\n",
    "    \n",
    "    def _coef(self):\n",
    "        return self.theta[1:]  #remind that theta is (w0, w1, w2, w3, w4.....wn)\n",
    "                               #w0 is the bias or the intercept\n",
    "                               #w1....wn are the weights / coefficients / theta\n",
    "    def _bias(self):\n",
    "        return self.theta[0]"
   ]
  },
  {
   "cell_type": "markdown",
   "metadata": {},
   "source": [
    "in the function above i add the function for calculate the R-sqaure score \n",
    "\n",
    "### R-square\n",
    "`SSres = Σ(yᵢ - ȳ)² `\n",
    "\n",
    "`SStot = Σ(yᵢ - ȳ)²`\n",
    "\n",
    "`R² = 1 - (SSres / SStot)`\n",
    "\n",
    "and also add the init weight method with xaviar"
   ]
  },
  {
   "cell_type": "markdown",
   "metadata": {},
   "source": [
    "Now we can create `Ridge`, `Lasso` and `Elastic` class that extends the `LinearRegression`, with added penalty."
   ]
  },
  {
   "cell_type": "code",
   "execution_count": 62,
   "metadata": {},
   "outputs": [],
   "source": [
    "class LassoPenalty:\n",
    "    \n",
    "    def __init__(self, l):\n",
    "        self.l = l # lambda value\n",
    "        \n",
    "    def __call__(self, theta): #__call__ allows us to call class as method\n",
    "        return self.l * np.sum(np.abs(theta))\n",
    "        \n",
    "    def derivation(self, theta):\n",
    "        return self.l * np.sign(theta)\n",
    "    \n",
    "class NormalP:\n",
    "    \n",
    "    def __init__(self, l):\n",
    "        self.l = l # lambda value\n",
    "        \n",
    "    def __call__(self, theta): #__call__ allows us to call class as method\n",
    "        return 0\n",
    "        \n",
    "    def derivation(self, theta):\n",
    "        return 0    \n",
    "    \n",
    "class RidgePenalty:\n",
    "    \n",
    "    def __init__(self, l):\n",
    "        self.l = l\n",
    "        \n",
    "    def __call__(self, theta): #__call__ allows us to call class as method\n",
    "        return self.l * np.sum(np.square(theta))\n",
    "        \n",
    "    def derivation(self, theta):\n",
    "        return self.l * 2 * theta\n",
    "    \n",
    "class ElasticPenalty:\n",
    "    \n",
    "    def __init__(self, l = 0.1, l_ratio = 0.5):\n",
    "        self.l = l \n",
    "        self.l_ratio = l_ratio\n",
    "\n",
    "    def __call__(self, theta):  #__call__ allows us to call class as method\n",
    "        l1_contribution = self.l_ratio * self.l * np.sum(np.abs(theta))\n",
    "        l2_contribution = (1 - self.l_ratio) * self.l * 0.5 * np.sum(np.square(theta))\n",
    "        return (l1_contribution + l2_contribution)\n",
    "\n",
    "    def derivation(self, theta):\n",
    "        l1_derivation = self.l * self.l_ratio * np.sign(theta)\n",
    "        l2_derivation = self.l * (1 - self.l_ratio) * theta\n",
    "        return (l1_derivation + l2_derivation)\n",
    "    \n",
    "class Lasso(LinearRegression):\n",
    "    \n",
    "    def __init__(self, method, lr, l):\n",
    "        self.regularization = LassoPenalty(l)\n",
    "        super().__init__(self.regularization, lr, method)\n",
    "        \n",
    "class Ridge(LinearRegression):\n",
    "    \n",
    "    def __init__(self, method, lr, l):\n",
    "        self.regularization = RidgePenalty(l)\n",
    "        super().__init__(self.regularization, lr, method)\n",
    "        \n",
    "class ElasticNet(LinearRegression):\n",
    "    \n",
    "    def __init__(self, method, lr, l, l_ratio=0.5):\n",
    "        self.regularization = ElasticPenalty(l, l_ratio)\n",
    "        super().__init__(self.regularization, lr, method)\n",
    "\n",
    "class Normal(LinearRegression):\n",
    "    \n",
    "    def __init__(self, method, lr, l):\n",
    "        self.regularization = NormalP(l)\n",
    "        super().__init__(self.regularization, lr, method)        \n"
   ]
  },
  {
   "cell_type": "markdown",
   "metadata": {},
   "source": [
    "## 6. Training"
   ]
  },
  {
   "cell_type": "markdown",
   "metadata": {},
   "source": [
    "I chose to enable momentum during training based on insights from the paper 'On the Importance of Initialization and Momentum in Deep Learning' (2013) by Ilya Sutskever and colleagues. This paper highlights that momentum acts as a helpful force, making it easier for deep learning models to learn effectively, especially when the initial weights are not ideal. The paper provides real-world examples that demonstrate how using momentum can significantly improve the training of neural networks."
   ]
  },
  {
   "cell_type": "code",
   "execution_count": null,
   "metadata": {},
   "outputs": [],
   "source": [
    "In this training i fix "
   ]
  },
  {
   "cell_type": "code",
   "execution_count": 63,
   "metadata": {},
   "outputs": [],
   "source": [
    "#helper function for looping classnames\n",
    "import sys\n",
    "\n",
    "def str_to_class(classname):\n",
    "    return getattr(sys.modules[__name__], classname)"
   ]
  },
  {
   "cell_type": "code",
   "execution_count": 65,
   "metadata": {},
   "outputs": [
    {
     "name": "stdout",
     "output_type": "stream",
     "text": [
      "===== Ridge-mini-lr=0.01--init_weight with zero use mometum =====\n",
      "Fold 0: mse: 4.836739633782124 r2: 0.07664133349169944\n",
      "Fold 1: mse: 4.903773710132999 r2: 0.060827310953859626\n",
      "Fold 2: mse: 4.888641520629464 r2: 0.06627383463621539\n",
      "Test MSE:  4.924559195734904  Test R2:  0.10771657102862431\n",
      "===== Ridge-mini-lr=0.01--init_weight with xaviar use mometum =====\n",
      "Fold 0: mse: 4.837201146593311 r2: 0.0764494386352178\n",
      "Fold 1: mse: 4.900997471307624 r2: 0.06084437135260501\n",
      "Fold 2: mse: 4.8884136079998015 r2: 0.06604957912933862\n",
      "Test MSE:  4.924199552726001  Test R2:  0.1076571831571207\n",
      "===== Ridge-mini-lr=0.001--init_weight with zero use mometum =====\n",
      "Fold 0: mse: 4.840598562502098 r2: 0.07652918249458418\n",
      "Fold 1: mse: 4.906393613233526 r2: 0.060559828605854515\n",
      "Fold 2: mse: 4.891753640025545 r2: 0.06596734718458663\n",
      "Test MSE:  4.9275396388462935  Test R2:  0.10759329143128049\n",
      "===== Ridge-mini-lr=0.001--init_weight with xaviar use mometum =====\n",
      "Fold 0: mse: 4.840597154912938 r2: 0.07655687583339088\n",
      "Fold 1: mse: 4.906728677385451 r2: 0.06029646215269768\n",
      "Fold 2: mse: 4.89228855223602 r2: 0.06596014690682073\n",
      "Test MSE:  4.928177914465371  Test R2:  0.1075933632442233\n",
      "===== Ridge-mini-lr=0.0001--init_weight with zero use mometum =====\n",
      "Fold 0: mse: 26.867719898108238 r2: 0.010109506631795995\n",
      "Fold 1: mse: 25.429636340197103 r2: 0.003532468850723447\n",
      "Fold 2: mse: 26.744891406836558 r2: 0.00651558224410087\n",
      "Test MSE:  26.896831104958412  Test R2:  0.01969324894919533\n",
      "===== Ridge-mini-lr=0.0001--init_weight with xaviar use mometum =====\n",
      "Fold 0: mse: 25.707914000341752 r2: 0.010869985843027008\n",
      "Fold 1: mse: 27.043619213534637 r2: 0.003432786179122904\n",
      "Fold 2: mse: 26.405728940926107 r2: 0.007487555172962512\n",
      "Test MSE:  26.506239080878988  Test R2:  0.02076539614920825\n",
      "===== Ridge-batch-lr=0.01--init_weight with zero use mometum =====\n",
      "Fold 0: mse: 4.8403396062022965 r2: 0.07657010221371974\n",
      "Fold 1: mse: 4.906373342083427 r2: 0.06038995976638184\n",
      "Fold 2: mse: 4.892454956724735 r2: 0.06583968467185386\n",
      "Test MSE:  4.927935853992737  Test R2:  0.10751335010221474\n",
      "===== Ridge-batch-lr=0.01--init_weight with xaviar use mometum =====\n",
      "Fold 0: mse: 4.840122823016165 r2: 0.07654091475652647\n",
      "Fold 1: mse: 4.905319027177145 r2: 0.060839994323191426\n",
      "Fold 2: mse: 4.891647045506231 r2: 0.06594398200390128\n",
      "Test MSE:  4.927472815427146  Test R2:  0.10759541205317225\n",
      "===== Ridge-batch-lr=0.001--init_weight with zero use mometum =====\n",
      "Fold 0: mse: 30.19511138543558 r2: 0.011453919155631431\n",
      "Fold 1: mse: 30.34867571116226 r2: 0.0028978262070721295\n",
      "Fold 2: mse: 30.5640911413034 r2: 0.007530789206533384\n",
      "Test MSE:  30.67210296031527  Test R2:  0.018341479035374197\n",
      "===== Ridge-batch-lr=0.001--init_weight with xaviar use mometum =====\n",
      "Fold 0: mse: 28.708282244909142 r2: 0.007438463800114148\n",
      "Fold 1: mse: 30.26116658816084 r2: 0.0014020448616297587\n",
      "Fold 2: mse: 28.56048782631728 r2: 0.0013344991359697245\n",
      "Test MSE:  28.721595408200525  Test R2:  0.017469887301214904\n",
      "===== Ridge-batch-lr=0.0001--init_weight with zero use mometum =====\n",
      "Fold 0: mse: 135.72142718533377 r2: -0.0013673069171531438\n",
      "Fold 1: mse: 135.06083166187423 r2: -0.0011221859847347915\n",
      "Fold 2: mse: 136.03928812887335 r2: 0.0003308815093431283\n",
      "Test MSE:  136.2863688900839  Test R2:  0.0035635011038068765\n",
      "===== Ridge-batch-lr=0.0001--init_weight with xaviar use mometum =====\n",
      "Fold 0: mse: 144.74079981325653 r2: 0.001398508633698392\n",
      "Fold 1: mse: 133.18833497324957 r2: -0.006188560743578098\n",
      "Fold 2: mse: 150.59073888156195 r2: -0.009059079841184037\n",
      "Test MSE:  151.51944164686807  Test R2:  -0.005201144131359303\n",
      "===== Ridge-sto-lr=0.01--init_weight with zero use mometum =====\n",
      "Fold 0: mse: 4.649460545613742 r2: 0.09644222871408059\n",
      "Fold 1: mse: 5.038858249890844 r2: 0.015472215686056279\n",
      "Fold 2: mse: 4.82257243107227 r2: 0.0037881057576112376\n",
      "Test MSE:  4.885843819098468  Test R2:  0.09162705200263677\n",
      "===== Ridge-sto-lr=0.01--init_weight with xaviar use mometum =====\n",
      "Fold 0: mse: 4.7703477145282065 r2: 0.05388225182099138\n",
      "Fold 1: mse: 4.867316698437362 r2: 0.033287617163473726\n",
      "Fold 2: mse: 4.865661808002965 r2: 0.10395671859673483\n",
      "Test MSE:  4.890450575260672  Test R2:  0.10380835734628058\n",
      "===== Ridge-sto-lr=0.001--init_weight with zero use mometum =====\n",
      "Fold 0: mse: 4.847687061268695 r2: 0.07737947155598024\n",
      "Fold 1: mse: 4.943402573692799 r2: 0.05585093364525928\n",
      "Fold 2: mse: 4.881798981599028 r2: 0.08082321837412088\n",
      "Test MSE:  4.9116915983432925  Test R2:  0.10903365501677142\n",
      "===== Ridge-sto-lr=0.001--init_weight with xaviar use mometum =====\n",
      "Fold 0: mse: 4.8307603381707676 r2: 0.07890244470561858\n",
      "Fold 1: mse: 4.904941134035281 r2: 0.05032736230492019\n",
      "Fold 2: mse: 4.892273024951919 r2: 0.048434002629611506\n",
      "Test MSE:  4.936149568632098  Test R2:  0.10494219556699869\n",
      "===== Ridge-sto-lr=0.0001--init_weight with zero use mometum =====\n",
      "Fold 0: mse: 4.835799893206907 r2: 0.07708523791854238\n",
      "Fold 1: mse: 4.904235973986035 r2: 0.06014606165080216\n",
      "Fold 2: mse: 4.885630187148044 r2: 0.06588008040982485\n",
      "Test MSE:  4.921647461508739  Test R2:  0.10772265329356912\n",
      "===== Ridge-sto-lr=0.0001--init_weight with xaviar use mometum =====\n",
      "Fold 0: mse: 4.837554892545503 r2: 0.07644824844107911\n",
      "Fold 1: mse: 4.8992367250360065 r2: 0.06127531319353707\n",
      "Fold 2: mse: 4.885294399427757 r2: 0.06643384577917655\n",
      "Test MSE:  4.921243485058558  Test R2:  0.10777975368162418\n",
      "===== Lasso-mini-lr=0.01--init_weight with zero use mometum =====\n",
      "Fold 0: mse: 0.12484080564596926 r2: 0.7081638673809927\n",
      "Fold 1: mse: 0.11789711828431045 r2: 0.7104709908246113\n",
      "Fold 2: mse: 0.1390541582667843 r2: 0.667442227495419\n",
      "Test MSE:  0.14303016341389446  Test R2:  0.8033673566509602\n",
      "===== Lasso-mini-lr=0.01--init_weight with xaviar use mometum =====\n",
      "Fold 0: mse: 0.12408126488101878 r2: 0.7090917815210915\n",
      "Fold 1: mse: 0.11753301069961156 r2: 0.713259324885765\n",
      "Fold 2: mse: 0.13899009614861232 r2: 0.6657716543445229\n",
      "Test MSE:  0.1428073911611844  Test R2:  0.8036782274211375\n",
      "===== Lasso-mini-lr=0.001--init_weight with zero use mometum =====\n",
      "Fold 0: mse: 0.12456717556332597 r2: 0.7085028613935449\n",
      "Fold 1: mse: 0.11772129395334548 r2: 0.7127042427312833\n",
      "Fold 2: mse: 0.13907161482955332 r2: 0.6679296119336441\n",
      "Test MSE:  0.1430797747354845  Test R2:  0.8033018963493164\n",
      "===== Lasso-mini-lr=0.001--init_weight with xaviar use mometum =====\n",
      "Fold 0: mse: 0.1260729735926186 r2: 0.7067956740744588\n",
      "Fold 1: mse: 0.11768134611908998 r2: 0.7148195480664272\n",
      "Fold 2: mse: 0.1391757445577748 r2: 0.6680589993894224\n",
      "Test MSE:  0.1432170881498591  Test R2:  0.8031206932689399\n",
      "===== Lasso-mini-lr=0.0001--init_weight with zero use mometum =====\n",
      "Fold 0: mse: 20.17270943220584 r2: 0.0071687964837861\n",
      "Fold 1: mse: 18.676355110414086 r2: 0.005777307978538482\n",
      "Fold 2: mse: 18.668326811050438 r2: 0.014208596035713006\n",
      "Test MSE:  18.740674808679355  Test R2:  0.029623120705164485\n",
      "===== Lasso-mini-lr=0.0001--init_weight with xaviar use mometum =====\n",
      "Fold 0: mse: 20.08900540418646 r2: 0.011132731588188727\n",
      "Fold 1: mse: 18.732416439563266 r2: 0.003028785912141174\n",
      "Fold 2: mse: 21.07855671615754 r2: 0.012203604893201603\n",
      "Test MSE:  21.176842922295354  Test R2:  0.02660634815330687\n",
      "===== Lasso-batch-lr=0.01--init_weight with zero use mometum =====\n",
      "Fold 0: mse: 0.12517514158292134 r2: 0.7078420070322096\n",
      "Fold 1: mse: 0.11796933414184942 r2: 0.7104225638458384\n",
      "Fold 2: mse: 0.13877588136012484 r2: 0.6672926446553903\n",
      "Test MSE:  0.14265511925736582  Test R2:  0.8038658700137478\n",
      "===== Lasso-batch-lr=0.01--init_weight with xaviar use mometum =====\n",
      "Fold 0: mse: 0.12603513994913418 r2: 0.7068051015425407\n",
      "Fold 1: mse: 0.11810471694674529 r2: 0.7096553526505199\n",
      "Fold 2: mse: 0.1388219960806345 r2: 0.667521657217327\n",
      "Test MSE:  0.14273481775880045  Test R2:  0.8037588732107559\n",
      "===== Lasso-batch-lr=0.001--init_weight with zero use mometum =====\n",
      "Fold 0: mse: 22.938125746796807 r2: 0.009101747638553315\n",
      "Fold 1: mse: 24.028937727386364 r2: 0.00031615927818018363\n",
      "Fold 2: mse: 22.415701431925566 r2: -0.001990068032698744\n",
      "Test MSE:  22.560761929490617  Test R2:  0.020263156247361414\n",
      "===== Lasso-batch-lr=0.001--init_weight with xaviar use mometum =====\n",
      "Fold 0: mse: 23.87869000418271 r2: 0.01032794367642631\n",
      "Fold 1: mse: 23.500031018838445 r2: 0.004505830351170914\n",
      "Fold 2: mse: 22.53467474449985 r2: -9.577100246715986e-05\n",
      "Test MSE:  22.674938713280536  Test R2:  0.021217311652499182\n",
      "===== Lasso-batch-lr=0.0001--init_weight with zero use mometum =====\n",
      "Fold 0: mse: 133.0064310093045 r2: -0.002589948883756188\n",
      "Fold 1: mse: 139.0757163143932 r2: -0.0092671567962197\n",
      "Fold 2: mse: 130.81992599024574 r2: -0.002347468779252848\n",
      "Test MSE:  131.30093458345658  Test R2:  0.0024845334245270356\n",
      "===== Lasso-batch-lr=0.0001--init_weight with xaviar use mometum =====\n",
      "Fold 0: mse: 139.61407822043972 r2: -0.0038878324435960288\n",
      "Fold 1: mse: 145.52738087394715 r2: -0.0029159979059556473\n",
      "Fold 2: mse: 148.28029595299867 r2: 0.0017209885891915633\n",
      "Test MSE:  148.5855324031583  Test R2:  0.003799958869531661\n",
      "===== Lasso-sto-lr=0.01--init_weight with zero use mometum =====\n",
      "Fold 0: mse: 0.1234007909713615 r2: 0.7345555176484189\n",
      "Fold 1: mse: 0.10135048996725132 r2: 0.8026346014442953\n",
      "Fold 2: mse: 0.1296987971249752 r2: 0.7359127897208793\n",
      "Test MSE:  0.13471327475696404  Test R2:  0.8158528006496525\n",
      "===== Lasso-sto-lr=0.01--init_weight with xaviar use mometum =====\n",
      "Fold 0: mse: 0.13940405624839428 r2: 0.6080900840852863\n",
      "Fold 1: mse: 0.12622195948818174 r2: 0.6900433694847492\n",
      "Fold 2: mse: 0.11696135426486984 r2: 0.7653290468337428\n",
      "Test MSE:  0.12082694138093408  Test R2:  0.8312791330902785\n",
      "===== Lasso-sto-lr=0.001--init_weight with zero use mometum =====\n",
      "Fold 0: mse: 0.12149289286255732 r2: 0.7246545639259623\n",
      "Fold 1: mse: 0.11724487928292329 r2: 0.7098445752512914\n",
      "Fold 2: mse: 0.14223929508568114 r2: 0.6479595351952\n",
      "Test MSE:  0.14597729620405359  Test R2:  0.7989499954059177\n",
      "===== Lasso-sto-lr=0.001--init_weight with xaviar use mometum =====\n",
      "Fold 0: mse: 0.1256525519858712 r2: 0.7061463394042673\n",
      "Fold 1: mse: 0.1255322778507748 r2: 0.6762998535580734\n",
      "Fold 2: mse: 0.14031662451659738 r2: 0.6636637773647199\n",
      "Test MSE:  0.14441063003270568  Test R2:  0.8014884027357312\n",
      "===== Lasso-sto-lr=0.0001--init_weight with zero use mometum =====\n",
      "Fold 0: mse: 0.12566975587453252 r2: 0.7072533140963537\n",
      "Fold 1: mse: 0.11743913759171452 r2: 0.7141409463102848\n",
      "Fold 2: mse: 0.13877398156083415 r2: 0.6692620237259026\n",
      "Test MSE:  0.1427950088196431  Test R2:  0.8036327034921196\n",
      "===== Lasso-sto-lr=0.0001--init_weight with xaviar use mometum =====\n",
      "Fold 0: mse: 0.12537875043166666 r2: 0.707081092520256\n",
      "Fold 1: mse: 0.1174262115659201 r2: 0.7146107676644429\n",
      "Fold 2: mse: 0.1394388927740267 r2: 0.6669646820634351\n",
      "Test MSE:  0.14350307339686952  Test R2:  0.8026388096407595\n",
      "===== ElasticNet-mini-lr=0.01--init_weight with zero use mometum =====\n",
      "Fold 0: mse: 0.5444576813929436 r2: 0.4130378455511561\n",
      "Fold 1: mse: 0.5599321133062717 r2: 0.3785566010861734\n",
      "Fold 2: mse: 0.5674766046424522 r2: 0.3816882678727058\n",
      "Test MSE:  0.5805958773425216  Test R2:  0.5067880873958814\n",
      "===== ElasticNet-mini-lr=0.01--init_weight with xaviar use mometum =====\n",
      "Fold 0: mse: 0.5450619003348369 r2: 0.4125891058855842\n",
      "Fold 1: mse: 0.5597418167757391 r2: 0.3786521568184107\n",
      "Fold 2: mse: 0.5668082882176076 r2: 0.3812707658455794\n",
      "Test MSE:  0.5799139837568594  Test R2:  0.5070248662232109\n",
      "===== ElasticNet-mini-lr=0.001--init_weight with zero use mometum =====\n",
      "Fold 0: mse: 0.5457851283698549 r2: 0.41264164936314485\n",
      "Fold 1: mse: 0.5604837831978788 r2: 0.3784100452102058\n",
      "Fold 2: mse: 0.5672276531554227 r2: 0.38178010330349654\n",
      "Test MSE:  0.580474006067609  Test R2:  0.5068314442175056\n",
      "===== ElasticNet-mini-lr=0.001--init_weight with xaviar use mometum =====\n",
      "Fold 0: mse: 0.5459371808744684 r2: 0.41255123318566034\n",
      "Fold 1: mse: 0.5605023483888554 r2: 0.37803591842978523\n",
      "Fold 2: mse: 0.5677369694673483 r2: 0.3808624193489192\n",
      "Test MSE:  0.5806989395848998  Test R2:  0.5066766600832178\n",
      "===== ElasticNet-mini-lr=0.0001--init_weight with zero use mometum =====\n",
      "Fold 0: mse: 22.460763123835772 r2: 0.020013615789760908\n",
      "Fold 1: mse: 21.9327737531085 r2: -0.0005285601486579861\n",
      "Fold 2: mse: 22.55308979057303 r2: 0.008511656702706594\n",
      "Test MSE:  22.657090623675927  Test R2:  0.024331581304032013\n",
      "===== ElasticNet-mini-lr=0.0001--init_weight with xaviar use mometum =====\n",
      "Fold 0: mse: 22.42392436324694 r2: 0.01818766341459599\n",
      "Fold 1: mse: 21.348803592990905 r2: 0.010104497059378548\n",
      "Fold 2: mse: 22.57710932926692 r2: 0.012454722849229105\n",
      "Test MSE:  22.65704195483474  Test R2:  0.0249827452335335\n",
      "===== ElasticNet-batch-lr=0.01--init_weight with zero use mometum =====\n",
      "Fold 0: mse: 0.5464779397234276 r2: 0.4126405705556486\n",
      "Fold 1: mse: 0.5603514310686073 r2: 0.37818798709757473\n",
      "Fold 2: mse: 0.5673849225152966 r2: 0.38123122697483636\n",
      "Test MSE:  0.5804354277668837  Test R2:  0.5068163335349416\n",
      "===== ElasticNet-batch-lr=0.01--init_weight with xaviar use mometum =====\n",
      "Fold 0: mse: 0.545348000399392 r2: 0.4126956175523733\n",
      "Fold 1: mse: 0.5604029294172461 r2: 0.3779930689701301\n",
      "Fold 2: mse: 0.5674634681793586 r2: 0.3810969793949349\n",
      "Test MSE:  0.5804790556600721  Test R2:  0.5067869077990133\n",
      "===== ElasticNet-batch-lr=0.001--init_weight with zero use mometum =====\n",
      "Fold 0: mse: 25.90979351073605 r2: 0.011273959380906362\n",
      "Fold 1: mse: 26.2201617171893 r2: 0.0046129521469661094\n",
      "Fold 2: mse: 26.305753580520292 r2: 0.007249479634726996\n",
      "Test MSE:  26.411437240478204  Test R2:  0.020586327723308373\n",
      "===== ElasticNet-batch-lr=0.001--init_weight with xaviar use mometum =====\n",
      "Fold 0: mse: 23.57245712875067 r2: 0.008506210668716374\n",
      "Fold 1: mse: 26.243084951258 r2: -0.0006606376012718851\n",
      "Fold 2: mse: 24.229197218862478 r2: 0.0005581242075051174\n",
      "Test MSE:  24.368094162766095  Test R2:  0.020033283715334527\n",
      "===== ElasticNet-batch-lr=0.0001--init_weight with zero use mometum =====\n",
      "Fold 0: mse: 149.3261709426582 r2: -0.005858090898849255\n",
      "Fold 1: mse: 135.8712833179772 r2: -0.0024311685417435225\n",
      "Fold 2: mse: 131.73243482174217 r2: -0.0033913592256227254\n",
      "Test MSE:  132.18490835083375  Test R2:  0.0015510750673648488\n",
      "===== ElasticNet-batch-lr=0.0001--init_weight with xaviar use mometum =====\n",
      "Fold 0: mse: 141.0282309273962 r2: -0.00800909435458741\n",
      "Fold 1: mse: 145.43817398427495 r2: -0.0010239290023239533\n",
      "Fold 2: mse: 137.72460751435383 r2: -0.008468279131475631\n",
      "Test MSE:  138.49207494424107  Test R2:  -0.0041539142226110215\n",
      "===== ElasticNet-sto-lr=0.01--init_weight with zero use mometum =====\n",
      "Fold 0: mse: 0.5422708284090512 r2: 0.3896200546351426\n",
      "Fold 1: mse: 0.5834039265886319 r2: 0.3511526941779166\n",
      "Fold 2: mse: 0.5826818404250257 r2: 0.42511714486081276\n",
      "Test MSE:  0.5941962493731145  Test R2:  0.5044838434247796\n",
      "===== ElasticNet-sto-lr=0.01--init_weight with xaviar use mometum =====\n",
      "Fold 0: mse: 0.5739405308003683 r2: 0.35125721033681523\n",
      "Fold 1: mse: 0.5454839384739505 r2: 0.46027511779832664\n",
      "Fold 2: mse: 0.598111847005554 r2: 0.3918945854850878\n",
      "Test MSE:  0.6118578342946027  Test R2:  0.4942026434343284\n",
      "===== ElasticNet-sto-lr=0.001--init_weight with zero use mometum =====\n",
      "Fold 0: mse: 0.538401322125511 r2: 0.420230753868176\n",
      "Fold 1: mse: 0.5618450590542112 r2: 0.3687361129766088\n",
      "Fold 2: mse: 0.5645715624143206 r2: 0.40044907327705825\n",
      "Test MSE:  0.5776357110458231  Test R2:  0.5093021525280543\n",
      "===== ElasticNet-sto-lr=0.001--init_weight with xaviar use mometum =====\n",
      "Fold 0: mse: 0.5400785519572848 r2: 0.44636134043254827\n",
      "Fold 1: mse: 0.5518598486770099 r2: 0.4136159212594669\n",
      "Fold 2: mse: 0.5604029329979229 r2: 0.41929179057098465\n",
      "Test MSE:  0.5726722568152646  Test R2:  0.5127465236531038\n",
      "===== ElasticNet-sto-lr=0.0001--init_weight with zero use mometum =====\n",
      "Fold 0: mse: 0.5455251934745764 r2: 0.4116531283055107\n",
      "Fold 1: mse: 0.5598461892530341 r2: 0.3788581219538998\n",
      "Fold 2: mse: 0.5664715706375391 r2: 0.38192200910423646\n",
      "Test MSE:  0.5797336841845148  Test R2:  0.5071341861869545\n",
      "===== ElasticNet-sto-lr=0.0001--init_weight with xaviar use mometum =====\n",
      "Fold 0: mse: 0.544982760491091 r2: 0.4122287402802236\n",
      "Fold 1: mse: 0.5596864373019305 r2: 0.3784868507125614\n",
      "Fold 2: mse: 0.5665910453283631 r2: 0.38190589428909594\n",
      "Test MSE:  0.5797083470472899  Test R2:  0.5071576815530988\n",
      "===== Normal-mini-lr=0.01--init_weight with zero use mometum =====\n",
      "Fold 0: mse: 0.09238143814590939 r2: 0.8489247665758459\n",
      "Fold 1: mse: 0.09676553919313208 r2: 0.8306262312575124\n",
      "Fold 2: mse: 0.10377955789420833 r2: 0.8276022233100735\n",
      "Test MSE:  0.10722804747127727  Test R2:  0.8501112518328446\n",
      "===== Normal-mini-lr=0.01--init_weight with xaviar use mometum =====\n",
      "Fold 0: mse: 0.0916555611235444 r2: 0.8495552187967326\n",
      "Fold 1: mse: 0.09681258530070261 r2: 0.8304088311052975\n",
      "Fold 2: mse: 0.10363432471212171 r2: 0.8281551645574227\n",
      "Test MSE:  0.1074254504882912  Test R2:  0.8498445845553186\n",
      "===== Normal-mini-lr=0.001--init_weight with zero use mometum =====\n",
      "Fold 0: mse: 0.09214559592361835 r2: 0.8493192100893712\n",
      "Fold 1: mse: 0.09725847658971767 r2: 0.8291575597427017\n",
      "Fold 2: mse: 0.10389737397067174 r2: 0.8273815363808663\n",
      "Test MSE:  0.1072271408114307  Test R2:  0.8501152477229167\n",
      "===== Normal-mini-lr=0.001--init_weight with xaviar use mometum =====\n",
      "Fold 0: mse: 0.09298650015363509 r2: 0.8483447958309759\n",
      "Fold 1: mse: 0.09633458187457672 r2: 0.832187933608131\n",
      "Fold 2: mse: 0.10395377434821845 r2: 0.8272488593294867\n",
      "Test MSE:  0.10722531966446737  Test R2:  0.850115829028\n",
      "===== Normal-mini-lr=0.0001--init_weight with zero use mometum =====\n",
      "Fold 0: mse: 17.94732305715953 r2: 0.033044344350488086\n",
      "Fold 1: mse: 19.5254667163337 r2: 0.008893852689437098\n",
      "Fold 2: mse: 18.17680976374774 r2: 0.011039048478841962\n",
      "Test MSE:  18.290035901585433  Test R2:  0.02801823094122846\n",
      "===== Normal-mini-lr=0.0001--init_weight with xaviar use mometum =====\n",
      "Fold 0: mse: 18.157739100707428 r2: 0.022720992841523624\n",
      "Fold 1: mse: 20.553669490496596 r2: 0.00980406821620794\n",
      "Fold 2: mse: 20.46482508964112 r2: 0.0056402932059913535\n",
      "Test MSE:  20.6034585230362  Test R2:  0.024792859101472997\n",
      "===== Normal-batch-lr=0.01--init_weight with zero use mometum =====\n",
      "Fold 0: mse: 0.09284229957183818 r2: 0.8485191499263618\n",
      "Fold 1: mse: 0.0968278610349898 r2: 0.8303101789309351\n",
      "Fold 2: mse: 0.10380739020624012 r2: 0.8275519848770871\n",
      "Test MSE:  0.10729404797099887  Test R2:  0.8500325549308865\n",
      "===== Normal-batch-lr=0.01--init_weight with xaviar use mometum =====\n",
      "Fold 0: mse: 0.09339323159765904 r2: 0.8478863845314072\n",
      "Fold 1: mse: 0.0967840221598734 r2: 0.8303891442900155\n",
      "Fold 2: mse: 0.10390050429534084 r2: 0.8273724829355258\n",
      "Test MSE:  0.1072213788695575  Test R2:  0.8501220209888886\n",
      "===== Normal-batch-lr=0.001--init_weight with zero use mometum =====\n",
      "Fold 0: mse: 24.30086368420858 r2: 0.02418205717191746\n",
      "Fold 1: mse: 25.05014907823862 r2: 0.008106573045179144\n",
      "Fold 2: mse: 25.010560758012172 r2: -0.0009621978410041532\n",
      "Test MSE:  25.158859302553232  Test R2:  0.01871776368547784\n",
      "===== Normal-batch-lr=0.001--init_weight with xaviar use mometum =====\n",
      "Fold 0: mse: 23.052795451653648 r2: 0.018522648889279236\n",
      "Fold 1: mse: 23.75196908356581 r2: -0.001237461977390275\n",
      "Fold 2: mse: 24.90946317721747 r2: 0.012866823195301524\n",
      "Test MSE:  25.020828953354805  Test R2:  0.02210082421355919\n",
      "===== Normal-batch-lr=0.0001--init_weight with zero use mometum =====\n",
      "Fold 0: mse: 150.44126093207808 r2: -0.006068781996279027\n",
      "Fold 1: mse: 135.2210056256352 r2: -0.0015956857309771255\n",
      "Fold 2: mse: 146.28993965101975 r2: -0.002675612075702327\n",
      "Test MSE:  146.95063355454215  Test R2:  0.001554736799102674\n",
      "===== Normal-batch-lr=0.0001--init_weight with xaviar use mometum =====\n",
      "Fold 0: mse: 136.83791235911292 r2: -0.0024481909856814976\n",
      "Fold 1: mse: 138.4487896757188 r2: 0.0007127995630847872\n",
      "Fold 2: mse: 140.18332041042018 r2: -0.007930650900737302\n",
      "Test MSE:  140.93839972163278  Test R2:  -0.0034013322741341945\n",
      "===== Normal-sto-lr=0.01--init_weight with zero use mometum =====\n",
      "Fold 0: mse: 0.09951197505488199 r2: 0.8347115892575703\n",
      "Fold 1: mse: 0.09765534159654925 r2: 0.8145455375832187\n",
      "Fold 2: mse: 0.10428209871361009 r2: 0.8342626652242292\n",
      "Test MSE:  0.10785413234198499  Test R2:  0.8493879236517203\n",
      "===== Normal-sto-lr=0.01--init_weight with xaviar use mometum =====\n",
      "Fold 0: mse: 0.09480649291507183 r2: 0.8464206112110988\n",
      "Fold 1: mse: 0.09778373607139192 r2: 0.7941966255913877\n",
      "Fold 2: mse: 0.10739478653962449 r2: 0.8034115688495476\n",
      "Test MSE:  0.1110353157009656  Test R2:  0.8448205093832695\n",
      "===== Normal-sto-lr=0.001--init_weight with zero use mometum =====\n",
      "Fold 0: mse: 0.09245630798426956 r2: 0.8462345228053142\n",
      "Fold 1: mse: 0.09648130510829271 r2: 0.8284053578814985\n",
      "Fold 2: mse: 0.10395347496060726 r2: 0.8261376686911343\n",
      "Test MSE:  0.1077585464510929  Test R2:  0.8493704980465462\n",
      "===== Normal-sto-lr=0.001--init_weight with xaviar use mometum =====\n",
      "Fold 0: mse: 0.09256704251812693 r2: 0.8573528079409307\n",
      "Fold 1: mse: 0.0963249705288592 r2: 0.8289577202154922\n",
      "Fold 2: mse: 0.10334537096851655 r2: 0.8340927162429153\n",
      "Test MSE:  0.10703468412850338  Test R2:  0.8503893324441448\n",
      "===== Normal-sto-lr=0.0001--init_weight with zero use mometum =====\n",
      "Fold 0: mse: 0.09218569070486252 r2: 0.8493665765740289\n",
      "Fold 1: mse: 0.09631162506328382 r2: 0.832500263597643\n",
      "Fold 2: mse: 0.10374651572680874 r2: 0.8274579268018849\n",
      "Test MSE:  0.10727278744991216  Test R2:  0.8500485075941592\n",
      "===== Normal-sto-lr=0.0001--init_weight with xaviar use mometum =====\n",
      "Fold 0: mse: 0.0923153297341386 r2: 0.8492170692544496\n",
      "Fold 1: mse: 0.09675625866389524 r2: 0.8300942339627319\n",
      "Fold 2: mse: 0.10364853658238475 r2: 0.8279084400085048\n",
      "Test MSE:  0.10742408263688304  Test R2:  0.8498365507035439\n"
     ]
    }
   ],
   "source": [
    "# Training the the model with the combination of with regularization Rifge, Lasso, Elasticnet and without regularization. Learning rate (0.01, 0.001, 0.0001)\n",
    "# Stochastic , minibatch and batch. Finally initial weight with zero and xaviar\n",
    "regs = [\"Ridge\", \"Lasso\", \"ElasticNet\", \"Normal\"]\n",
    "learning_rate = [0.01, 0.001, 0.0001]\n",
    "method_rr = ['mini', 'batch', 'sto']\n",
    "init_weight = ['zero', 'xaviar']\n",
    "\n",
    "\n",
    "for reg in regs:\n",
    "    for method in method_rr :\n",
    "        for lr in learning_rate:        \n",
    "            for init_w in init_weight :\n",
    "                params = {\"method\": method,\"lr\": lr , \"l\": 0.1}\n",
    "                mlflow.start_run(run_name=f\"method-{params['method']}-lr-{params['lr']}-reg-{reg}-init-{init_w}\", nested=True)\n",
    "                \n",
    "                print(\"=\"*5, f\"{reg}-{method}-lr={lr}--init_weight with {init_w} use mometum\", \"=\"*5)\n",
    "\n",
    "                type_of_regression = str_to_class(reg)    #Ridge, Lasso, ElasticNet, Plynomail\n",
    "                model = type_of_regression(**params)  \n",
    "                model.fit(init_weight,True,X_train, y_train)\n",
    "                yhat = model.predict(X_test)\n",
    "                mse = model.mse(yhat, y_test)\n",
    "                r2 = model.r2(yhat, y_test)\n",
    "\n",
    "                print(\"Test MSE: \", mse, \" Test R2: \", r2 )\n",
    "                mlflow.log_metric(key=\"test_mse\", value=mse)\n",
    "                mlflow.log_metric(key=\"test_r2\", value=r2)\n",
    "\n",
    "                signature = mlflow.models.infer_signature(X_train, model.predict(X_train))\n",
    "                mlflow.sklearn.log_model(model, artifact_path='model', signature=signature)\n",
    "\n",
    "                mlflow.end_run()"
   ]
  },
  {
   "cell_type": "code",
   "execution_count": 64,
   "metadata": {},
   "outputs": [
    {
     "name": "stdout",
     "output_type": "stream",
     "text": [
      "===== Polynomial regression-mini-lr=0.01--init_weight with zero use mometum =====\n",
      "Fold 0: mse: 0.08967600283387342 r2: 0.8527319524782374\n",
      "Fold 1: mse: 0.09298102660511327 r2: 0.8374074614728388\n",
      "Fold 2: mse: 0.10036132323912453 r2: 0.8332067288516711\n",
      "Test MSE:  0.10738874602639023  Test R2:  0.8498833738478071\n",
      "===== Polynomial regression-mini-lr=0.01--init_weight with xaviar use mometum =====\n",
      "Fold 0: mse: 0.08925526267301193 r2: 0.8536156845202882\n",
      "Fold 1: mse: 0.0935957975190674 r2: 0.8363270092577535\n",
      "Fold 2: mse: 0.10095411314514588 r2: 0.8321116547082108\n",
      "Test MSE:  0.10663420645867903  Test R2:  0.8509415763211376\n"
     ]
    },
    {
     "name": "stderr",
     "output_type": "stream",
     "text": [
      "/home/earth/Desktop/ML/Homework/A1-Predicting_Car_Prices/.conda/lib/python3.9/site-packages/_distutils_hack/__init__.py:18: UserWarning: Distutils was imported before Setuptools, but importing Setuptools also replaces the `distutils` module in `sys.modules`. This may lead to undesirable behaviors or errors. To avoid these issues, avoid using distutils directly, ensure that setuptools is installed in the traditional way (e.g. not an editable install), and/or make sure that setuptools is always imported before distutils.\n",
      "  warnings.warn(\n",
      "/home/earth/Desktop/ML/Homework/A1-Predicting_Car_Prices/.conda/lib/python3.9/site-packages/_distutils_hack/__init__.py:33: UserWarning: Setuptools is replacing distutils.\n",
      "  warnings.warn(\"Setuptools is replacing distutils.\")\n"
     ]
    },
    {
     "name": "stdout",
     "output_type": "stream",
     "text": [
      "===== Polynomial regression-mini-lr=0.001--init_weight with zero use mometum =====\n",
      "Fold 0: mse: 0.09159504879091458 r2: 0.8495566031684698\n",
      "Fold 1: mse: 0.09889834702488509 r2: 0.8273001163011291\n",
      "Fold 2: mse: 0.10327792917795649 r2: 0.8269489132825091\n",
      "Test MSE:  0.108732118782875  Test R2:  0.8480084310687522\n",
      "===== Polynomial regression-mini-lr=0.001--init_weight with xaviar use mometum =====\n",
      "Fold 0: mse: 0.09329637262953727 r2: 0.846397600189173\n",
      "Fold 1: mse: 0.0996982426213394 r2: 0.8249946070267916\n",
      "Fold 2: mse: 0.10584517994468451 r2: 0.8210503628914887\n",
      "Test MSE:  0.11001233079636094  Test R2:  0.8462209366102139\n",
      "===== Polynomial regression-mini-lr=0.0001--init_weight with zero use mometum =====\n",
      "Fold 0: mse: 19.941808216022253 r2: 0.026401470271042338\n",
      "Fold 1: mse: 18.62459248267077 r2: 0.017975913735264637\n",
      "Fold 2: mse: 19.952614016697623 r2: 0.02249470709645285\n",
      "Test MSE:  19.974938716372314  Test R2:  0.028657437055555235\n",
      "===== Polynomial regression-mini-lr=0.0001--init_weight with xaviar use mometum =====\n",
      "Fold 0: mse: 19.364728806783045 r2: 0.029881543633071495\n",
      "Fold 1: mse: 18.697622287464547 r2: 0.018471096291613587\n",
      "Fold 2: mse: 18.468138717749383 r2: 0.025821112259454382\n",
      "Test MSE:  18.516817972481466  Test R2:  0.03154973319405574\n",
      "===== Polynomial regression-batch-lr=0.01--init_weight with zero use mometum =====\n",
      "Fold 0: mse: 0.09013624454078802 r2: 0.851634410354294\n",
      "Fold 1: mse: 0.09584902767445376 r2: 0.8319803416395996\n",
      "Fold 2: mse: 0.10500136706000969 r2: 0.8243504654032845\n",
      "Test MSE:  0.10853221137605763  Test R2:  0.8482906392033746\n",
      "===== Polynomial regression-batch-lr=0.01--init_weight with xaviar use mometum =====\n",
      "Fold 0: mse: 0.0892206536978113 r2: 0.8532957797836526\n",
      "Fold 1: mse: 0.094310009424676 r2: 0.8343138998436544\n",
      "Fold 2: mse: 0.10352210097536668 r2: 0.825639806209217\n",
      "Test MSE:  0.1090682173669491  Test R2:  0.847538964519688\n",
      "===== Polynomial regression-batch-lr=0.001--init_weight with zero use mometum =====\n",
      "Fold 0: mse: 24.151078761618336 r2: 0.019009059496656544\n",
      "Fold 1: mse: 22.44425422334223 r2: 0.015240046680491504\n",
      "Fold 2: mse: 23.681068632038052 r2: 0.017296626814638505\n",
      "Test MSE:  23.784152563081783  Test R2:  0.02417314155524042\n",
      "===== Polynomial regression-batch-lr=0.001--init_weight with xaviar use mometum =====\n",
      "Fold 0: mse: 23.758497647395608 r2: 0.021486888624028144\n",
      "Fold 1: mse: 22.84957614604259 r2: 0.01446925879406391\n",
      "Fold 2: mse: 24.17673147478911 r2: 0.018859685608947574\n",
      "Test MSE:  24.228810404987357  Test R2:  0.02384375296732799\n",
      "===== Polynomial regression-batch-lr=0.0001--init_weight with zero use mometum =====\n",
      "Fold 0: mse: 139.60067588455826 r2: -0.00242049002833733\n",
      "Fold 1: mse: 148.45483407713886 r2: -0.004593121992996441\n",
      "Fold 2: mse: 138.3970933729607 r2: -0.002584031164422962\n",
      "Test MSE:  138.94307829373906  Test R2:  0.0016724909262555432\n",
      "===== Polynomial regression-batch-lr=0.0001--init_weight with xaviar use mometum =====\n",
      "Fold 0: mse: 143.34221580079225 r2: -0.002285767856013088\n",
      "Fold 1: mse: 135.57479079867107 r2: 0.001155007823434806\n",
      "Fold 2: mse: 139.50757958013628 r2: -0.005715449145970997\n",
      "Test MSE:  140.23320997719298  Test R2:  -0.0005498290231462644\n",
      "===== Polynomial regression-sto-lr=0.01--init_weight with zero use mometum =====\n",
      "Fold 0: mse: 0.08467144844060714 r2: 0.8587082652963896\n",
      "Fold 1: mse: 0.1034941469400144 r2: 0.849134792950155\n",
      "Fold 2: mse: 0.10889747188899046 r2: 0.794797852985949\n",
      "Test MSE:  0.12511979271090554  Test R2:  0.8254208123624376\n",
      "===== Polynomial regression-sto-lr=0.01--init_weight with xaviar use mometum =====\n",
      "Fold 0: mse: 0.0846588943694058 r2: 0.8662464540992952\n",
      "Fold 1: mse: 0.0869638161717591 r2: 0.8383821359932392\n",
      "Fold 2: mse: 0.17341535883404474 r2: 0.4538422601769534\n",
      "Test MSE:  0.17850590175268372  Test R2:  0.7504684424825568\n",
      "===== Polynomial regression-sto-lr=0.001--init_weight with zero use mometum =====\n",
      "Fold 0: mse: 0.08384005501233657 r2: 0.8701787825845497\n",
      "Fold 1: mse: 0.08852728322799654 r2: 0.8476042667748872\n",
      "Fold 2: mse: 0.10220851797158106 r2: 0.8479359749495842\n",
      "Test MSE:  0.10676704841572036  Test R2:  0.8507539503844337\n",
      "===== Polynomial regression-sto-lr=0.001--init_weight with xaviar use mometum =====\n",
      "Fold 0: mse: 0.08393942328427394 r2: 0.8662649971770954\n",
      "Fold 1: mse: 0.08992851882797795 r2: 0.8534641022725703\n",
      "Fold 2: mse: 0.10058337950200535 r2: 0.8310254286551555\n",
      "Test MSE:  0.11832821519053316  Test R2:  0.8345898032630868\n",
      "===== Polynomial regression-sto-lr=0.0001--init_weight with zero use mometum =====\n",
      "Fold 0: mse: 0.08681964461605154 r2: 0.8571221581800219\n",
      "Fold 1: mse: 0.09193113320142285 r2: 0.8393135068223335\n",
      "Fold 2: mse: 0.10043497724561187 r2: 0.8351208379757155\n",
      "Test MSE:  0.1070619765511741  Test R2:  0.8503393566399713\n",
      "===== Polynomial regression-sto-lr=0.0001--init_weight with xaviar use mometum =====\n",
      "Fold 0: mse: 0.08765865578429063 r2: 0.8564248239097934\n",
      "Fold 1: mse: 0.09766756594682052 r2: 0.8276826214561823\n",
      "Fold 2: mse: 0.10144143352701414 r2: 0.8323223692322399\n",
      "Test MSE:  0.10581890000914512  Test R2:  0.8520781550168961\n"
     ]
    }
   ],
   "source": [
    "#Training Polynomial regression the polynomial degree 2\n",
    "regs = [\"Normal\"]\n",
    "learning_rate = [0.01, 0.001, 0.0001]\n",
    "method_rr = ['mini', 'batch', 'sto']\n",
    "init_weight = ['zero', 'xaviar']\n",
    "\n",
    "\n",
    "for reg in regs:\n",
    "    for method in method_rr :\n",
    "        for lr in learning_rate:        \n",
    "            for init_w in init_weight :\n",
    "                # for moment in momentum :\n",
    "                params = {\"method\": method,\"lr\": lr , \"l\": 0.1}\n",
    "                mlflow.start_run(run_name=f\"Polynomial regression method-{params['method']}-lr-{params['lr']}-init-{init_w}\", nested=True)\n",
    "                \n",
    "                print(\"=\"*5, f\"Polynomial regression-{method}-lr={lr}--init_weight with {init_w} use mometum\", \"=\"*5)\n",
    "\n",
    "                # #######\n",
    "                type_of_regression = str_to_class(reg)    #Ridge, Lasso, ElasticNet\n",
    "                model = type_of_regression(**params)  \n",
    "                model.fit(init_weight,True,X_train_poly, y_train)\n",
    "                yhat = model.predict(X_test_poly)\n",
    "                mse = model.mse(yhat, y_test)\n",
    "                r2 = model.r2(yhat, y_test)\n",
    "\n",
    "                print(\"Test MSE: \", mse, \" Test R2: \", r2 )\n",
    "                mlflow.log_metric(key=\"test_mse\", value=mse)\n",
    "                mlflow.log_metric(key=\"test_r2\", value=r2)\n",
    "\n",
    "                signature = mlflow.models.infer_signature(X_train_poly, model.predict(X_train_poly))\n",
    "                mlflow.sklearn.log_model(model, artifact_path='model', signature=signature)\n",
    "\n",
    "                # #######\n",
    "\n",
    "                mlflow.end_run()"
   ]
  },
  {
   "cell_type": "markdown",
   "metadata": {},
   "source": [
    "## 7. Experiment"
   ]
  },
  {
   "cell_type": "code",
   "execution_count": 1,
   "metadata": {},
   "outputs": [
    {
     "name": "stdout",
     "output_type": "stream",
     "text": [
      "Best model based on test_r2:\n",
      "Run ID: f5c10e909d2c4ca6b4b8f5c85dcae18c\n",
      "Test R-squared: 0.8520781550168961\n",
      "Run Name: Polynomial regression method-sto-lr-0.0001-init-xaviar\n"
     ]
    }
   ],
   "source": [
    "import mlflow\n",
    "import mlflow.pyfunc\n",
    "import pandas as pd\n",
    "import numpy as np\n",
    "\n",
    "mlflow.set_tracking_uri(\"http://localhost:5000\")\n",
    "\n",
    "experiment_name = \"experiment_1_ml\"\n",
    "\n",
    "experiment_id = mlflow.get_experiment_by_name(experiment_name).experiment_id\n",
    "runs = mlflow.search_runs(experiment_ids=[experiment_id])\n",
    "\n",
    "run_ids = []\n",
    "test_r2_values = []\n",
    "run_names = []\n",
    "\n",
    "for index, row in runs.iterrows():\n",
    "    run_id = row['run_id']\n",
    "    test_r2 = row['metrics.test_r2']\n",
    "    run_name = row['tags.mlflow.runName']\n",
    "    \n",
    "\n",
    "    if not np.isnan(test_r2):\n",
    "        run_ids.append(run_id)\n",
    "        test_r2_values.append(test_r2)\n",
    "        run_names.append(run_name)\n",
    "\n",
    "\n",
    "model_scores = pd.DataFrame({\"run_id\": run_ids, \"test_r2\": test_r2_values, \"run_name\": run_names})\n",
    "best_model = model_scores.sort_values(by=\"test_r2\", ascending=False).iloc[0] #Sort by the best R-square score \n",
    "\n",
    "print(\"Best model based on test_r2:\")\n",
    "print(\"Run ID:\", best_model[\"run_id\"])\n",
    "print(\"Test R-squared:\", best_model[\"test_r2\"])\n",
    "print(\"Run Name:\", best_model[\"run_name\"])"
   ]
  },
  {
   "cell_type": "code",
   "execution_count": 81,
   "metadata": {},
   "outputs": [
    {
     "data": {
      "text/plain": [
       "<Experiment: artifact_location='mlflow-artifacts:/635658241441554693', creation_time=1694619854682, experiment_id='635658241441554693', last_update_time=1694619854682, lifecycle_stage='active', name='experiment_1_ml', tags={}>"
      ]
     },
     "execution_count": 81,
     "metadata": {},
     "output_type": "execute_result"
    }
   ],
   "source": [
    "#experiment tracking\n",
    "import mlflow\n",
    "import os\n",
    "\n",
    "mlflow.set_tracking_uri(\"http://localhost:5000\")\n",
    "mlflow.set_experiment(experiment_name=\"experiment_1_ml\")"
   ]
  },
  {
   "cell_type": "code",
   "execution_count": 6,
   "metadata": {},
   "outputs": [
    {
     "name": "stderr",
     "output_type": "stream",
     "text": [
      "Downloading artifacts: 100%|██████████| 5/5 [00:02<00:00,  2.38it/s]\n",
      "2023/09/15 00:17:35 WARNING mlflow.pyfunc: Detected one or more mismatches between the model's dependencies and the current Python environment:\n",
      " - mlflow (current: 2.7.0, required: mlflow==2.6.0)\n",
      " - numpy (current: 1.23.5, required: numpy==1.25.2)\n",
      " - pandas (current: 2.1.0, required: pandas==1.3.3)\n",
      " - psutil (current: 5.9.4, required: psutil==5.9.0)\n",
      " - scikit-learn (current: 1.0.2, required: scikit-learn==1.3.0)\n",
      " - scipy (current: 1.9.3, required: scipy==1.11.2)\n",
      "To fix the mismatches, call `mlflow.pyfunc.get_model_dependencies(model_uri)` to fetch the model's environment and install dependencies using the resulting environment file.\n",
      "2023/09/15 00:17:35 WARNING mlflow.pyfunc: The version of Python that the model was saved in, `Python 3.9.17`, differs from the version of Python that is currently running, `Python 3.10.9`, and may be incompatible\n"
     ]
    }
   ],
   "source": [
    "def load_mlflow_model(run_id):\n",
    "    model_uri = f\"runs:/{run_id}/model\"\n",
    "    model = mlflow.pyfunc.load_model(model_uri)\n",
    "    return model\n",
    "\n",
    "loaded_ml = load_mlflow_model(best_model[\"run_id\"])"
   ]
  },
  {
   "cell_type": "code",
   "execution_count": 8,
   "metadata": {},
   "outputs": [],
   "source": [
    "import pickle\n",
    "newest_model = pickle.load(open('./new_model.pkl', 'rb'))"
   ]
  },
  {
   "cell_type": "markdown",
   "metadata": {},
   "source": [
    "Plot the feature importance with coefficient because in a linear regression model, the size (magnitude) of the coefficient tells you how much influence a particular feature has on the prediction."
   ]
  },
  {
   "cell_type": "code",
   "execution_count": 25,
   "metadata": {},
   "outputs": [
    {
     "data": {
      "image/png": "[encoded data removed]",
      "text/plain": [
       "<Figure size 1000x600 with 1 Axes>"
      ]
     },
     "metadata": {},
     "output_type": "display_data"
    }
   ],
   "source": [
    "import matplotlib.pyplot as plt\n",
    "import numpy as np\n",
    "\n",
    "coefficients = newest_model._coef()  \n",
    "\n",
    "\n",
    "feature_names = ['engine^2', 'engine * max_power', 'engine * year', 'max_power^2', 'max_power * year', 'year^2', 'engine', 'max_power', 'year']\n",
    "\n",
    "plt.figure(figsize=(10, 6))\n",
    "plt.barh(range(len(coefficients)), coefficients, tick_label=feature_names)\n",
    "plt.xlabel('Coefficient Value')\n",
    "plt.ylabel('Feature')\n",
    "plt.title('Feature Importance with Coefficients')\n",
    "\n",
    "# Display the plot\n",
    "plt.show()"
   ]
  },
  {
   "cell_type": "markdown",
   "metadata": {},
   "source": [
    "You will see that year and some combination  of  engine and max_power have the high magnetude to control the output of model"
   ]
  },
  {
   "cell_type": "code",
   "execution_count": 26,
   "metadata": {},
   "outputs": [],
   "source": [
    "#load the model with normal feature \n",
    "normal_model = pickle.load(open('./model.pkl', 'rb'))"
   ]
  },
  {
   "cell_type": "code",
   "execution_count": 31,
   "metadata": {},
   "outputs": [
    {
     "data": {
      "image/png": "[encoded data removed]",
      "text/plain": [
       "<Figure size 1000x600 with 1 Axes>"
      ]
     },
     "metadata": {},
     "output_type": "display_data"
    }
   ],
   "source": [
    "import matplotlib.pyplot as plt\n",
    "import numpy as np\n",
    "\n",
    "coefficients = normal_model._coef()  \n",
    "\n",
    "\n",
    "feature_names = ['engine', 'max_power', 'year']\n",
    "\n",
    "plt.figure(figsize=(10, 6))\n",
    "plt.barh(range(len(coefficients)), coefficients, tick_label=feature_names)\n",
    "plt.xlabel('Coefficient Value')\n",
    "plt.ylabel('Feature')\n",
    "plt.title('Feature Importance with Coefficients')\n",
    "\n",
    "# Display the plot\n",
    "plt.show()"
   ]
  },
  {
   "cell_type": "markdown",
   "metadata": {},
   "source": [
    "you will see that year is also the highest magnitude for model "
   ]
  },
  {
   "cell_type": "markdown",
   "metadata": {},
   "source": [
    "The choice of learning rate can significantly impact the performance of the model. In my case, a learning rate of 0.01 has proven to be the most effective.\n",
    "![Alt text](picture/image.png)\n",
    "Regarding the initialization of weights, it doesn't have a substantial impact on the model's performance.\n",
    "![Alt text](picture/image-3.png)\n",
    "However, it's worth noting that using stochastic batch gradient descent tends to lead to the highest R-squared score.\n",
    "![Alt text](picture/image-2.png)"
   ]
  },
  {
   "cell_type": "markdown",
   "metadata": {},
   "source": [
    "In this assignment, we extended our knowledge of linear regression by implementing and experimenting with a custom LinearRegression class. We  incorporated key enhancements such as the computation of the R-squared score, improved weight initialization using the Xavier method, and the option to use momentum-based gradient descent. Additionally, we added a feature importance plotting function.\n",
    "\n",
    "\n",
    "In the experiment part we found that :\n",
    "\n",
    "The choice of learning rate significantly impacts model performance, with a learning rate of 0.01 generally producing the best results.\n",
    "Weight initialization, while important, had a more moderate impact on model performance, with Xavier initialization providing a slight advantage.\n",
    "The incorporation of momentum in gradient descent led to faster convergence and reduced oscillation, making it a valuable technique for improving model training.\n",
    "Cross-validation allowed us to compare different regression techniques, batch types, initialization methods, and learning rates, providing a comprehensive view of their effects on model performance."
   ]
  }
 ],
 "metadata": {
  "kernelspec": {
   "display_name": ".venv",
   "language": "python",
   "name": "python3"
  },
  "language_info": {
   "codemirror_mode": {
    "name": "ipython",
    "version": 3
   },
   "file_extension": ".py",
   "mimetype": "text/x-python",
   "name": "python",
   "nbconvert_exporter": "python",
   "pygments_lexer": "ipython3",
   "version": "3.10.9"
  },
  "orig_nbformat": 4
 },
 "nbformat": 4,
 "nbformat_minor": 2
}
