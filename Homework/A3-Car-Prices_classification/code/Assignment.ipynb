{
 "cells": [
  {
   "cell_type": "markdown",
   "metadata": {},
   "source": [
    "# Assignment A3: Car price classification\n",
    "## Nutdanai Sritunya MMI st123055"
   ]
  },
  {
   "cell_type": "code",
   "execution_count": 1,
   "metadata": {},
   "outputs": [],
   "source": [
    "import numpy as np\n",
    "import pandas as pd\n",
    "import seaborn as sns\n",
    "import matplotlib.pyplot as plt \n",
    "from sklearn.preprocessing import LabelEncoder\n",
    "import matplotlib"
   ]
  },
  {
   "cell_type": "markdown",
   "metadata": {},
   "source": [
    "# 1. Load and preparing datasets"
   ]
  },
  {
   "cell_type": "code",
   "execution_count": 2,
   "metadata": {},
   "outputs": [],
   "source": [
    "df = pd.read_csv('./Cars.csv')"
   ]
  },
  {
   "cell_type": "code",
   "execution_count": 3,
   "metadata": {},
   "outputs": [
    {
     "data": {
      "text/html": [
       "<div>\n",
       "<style scoped>\n",
       "    .dataframe tbody tr th:only-of-type {\n",
       "        vertical-align: middle;\n",
       "    }\n",
       "\n",
       "    .dataframe tbody tr th {\n",
       "        vertical-align: top;\n",
       "    }\n",
       "\n",
       "    .dataframe thead th {\n",
       "        text-align: right;\n",
       "    }\n",
       "</style>\n",
       "<table border=\"1\" class=\"dataframe\">\n",
       "  <thead>\n",
       "    <tr style=\"text-align: right;\">\n",
       "      <th></th>\n",
       "      <th>name</th>\n",
       "      <th>year</th>\n",
       "      <th>selling_price</th>\n",
       "      <th>km_driven</th>\n",
       "      <th>fuel</th>\n",
       "      <th>seller_type</th>\n",
       "      <th>transmission</th>\n",
       "      <th>owner</th>\n",
       "      <th>mileage</th>\n",
       "      <th>engine</th>\n",
       "      <th>max_power</th>\n",
       "      <th>torque</th>\n",
       "      <th>seats</th>\n",
       "    </tr>\n",
       "  </thead>\n",
       "  <tbody>\n",
       "    <tr>\n",
       "      <th>0</th>\n",
       "      <td>Maruti Swift Dzire VDI</td>\n",
       "      <td>2014</td>\n",
       "      <td>450000</td>\n",
       "      <td>145500</td>\n",
       "      <td>Diesel</td>\n",
       "      <td>Individual</td>\n",
       "      <td>Manual</td>\n",
       "      <td>First Owner</td>\n",
       "      <td>23.4 kmpl</td>\n",
       "      <td>1248 CC</td>\n",
       "      <td>74 bhp</td>\n",
       "      <td>190Nm@ 2000rpm</td>\n",
       "      <td>5.0</td>\n",
       "    </tr>\n",
       "    <tr>\n",
       "      <th>1</th>\n",
       "      <td>Skoda Rapid 1.5 TDI Ambition</td>\n",
       "      <td>2014</td>\n",
       "      <td>370000</td>\n",
       "      <td>120000</td>\n",
       "      <td>Diesel</td>\n",
       "      <td>Individual</td>\n",
       "      <td>Manual</td>\n",
       "      <td>Second Owner</td>\n",
       "      <td>21.14 kmpl</td>\n",
       "      <td>1498 CC</td>\n",
       "      <td>103.52 bhp</td>\n",
       "      <td>250Nm@ 1500-2500rpm</td>\n",
       "      <td>5.0</td>\n",
       "    </tr>\n",
       "    <tr>\n",
       "      <th>2</th>\n",
       "      <td>Honda City 2017-2020 EXi</td>\n",
       "      <td>2006</td>\n",
       "      <td>158000</td>\n",
       "      <td>140000</td>\n",
       "      <td>Petrol</td>\n",
       "      <td>Individual</td>\n",
       "      <td>Manual</td>\n",
       "      <td>Third Owner</td>\n",
       "      <td>17.7 kmpl</td>\n",
       "      <td>1497 CC</td>\n",
       "      <td>78 bhp</td>\n",
       "      <td>12.7@ 2,700(kgm@ rpm)</td>\n",
       "      <td>5.0</td>\n",
       "    </tr>\n",
       "    <tr>\n",
       "      <th>3</th>\n",
       "      <td>Hyundai i20 Sportz Diesel</td>\n",
       "      <td>2010</td>\n",
       "      <td>225000</td>\n",
       "      <td>127000</td>\n",
       "      <td>Diesel</td>\n",
       "      <td>Individual</td>\n",
       "      <td>Manual</td>\n",
       "      <td>First Owner</td>\n",
       "      <td>23.0 kmpl</td>\n",
       "      <td>1396 CC</td>\n",
       "      <td>90 bhp</td>\n",
       "      <td>22.4 kgm at 1750-2750rpm</td>\n",
       "      <td>5.0</td>\n",
       "    </tr>\n",
       "    <tr>\n",
       "      <th>4</th>\n",
       "      <td>Maruti Swift VXI BSIII</td>\n",
       "      <td>2007</td>\n",
       "      <td>130000</td>\n",
       "      <td>120000</td>\n",
       "      <td>Petrol</td>\n",
       "      <td>Individual</td>\n",
       "      <td>Manual</td>\n",
       "      <td>First Owner</td>\n",
       "      <td>16.1 kmpl</td>\n",
       "      <td>1298 CC</td>\n",
       "      <td>88.2 bhp</td>\n",
       "      <td>11.5@ 4,500(kgm@ rpm)</td>\n",
       "      <td>5.0</td>\n",
       "    </tr>\n",
       "  </tbody>\n",
       "</table>\n",
       "</div>"
      ],
      "text/plain": [
       "                           name  year  selling_price  km_driven    fuel  \\\n",
       "0        Maruti Swift Dzire VDI  2014         450000     145500  Diesel   \n",
       "1  Skoda Rapid 1.5 TDI Ambition  2014         370000     120000  Diesel   \n",
       "2      Honda City 2017-2020 EXi  2006         158000     140000  Petrol   \n",
       "3     Hyundai i20 Sportz Diesel  2010         225000     127000  Diesel   \n",
       "4        Maruti Swift VXI BSIII  2007         130000     120000  Petrol   \n",
       "\n",
       "  seller_type transmission         owner     mileage   engine   max_power  \\\n",
       "0  Individual       Manual   First Owner   23.4 kmpl  1248 CC      74 bhp   \n",
       "1  Individual       Manual  Second Owner  21.14 kmpl  1498 CC  103.52 bhp   \n",
       "2  Individual       Manual   Third Owner   17.7 kmpl  1497 CC      78 bhp   \n",
       "3  Individual       Manual   First Owner   23.0 kmpl  1396 CC      90 bhp   \n",
       "4  Individual       Manual   First Owner   16.1 kmpl  1298 CC    88.2 bhp   \n",
       "\n",
       "                     torque  seats  \n",
       "0            190Nm@ 2000rpm    5.0  \n",
       "1       250Nm@ 1500-2500rpm    5.0  \n",
       "2     12.7@ 2,700(kgm@ rpm)    5.0  \n",
       "3  22.4 kgm at 1750-2750rpm    5.0  \n",
       "4     11.5@ 4,500(kgm@ rpm)    5.0  "
      ]
     },
     "execution_count": 3,
     "metadata": {},
     "output_type": "execute_result"
    }
   ],
   "source": [
    "df.head()"
   ]
  },
  {
   "cell_type": "code",
   "execution_count": 4,
   "metadata": {},
   "outputs": [
    {
     "data": {
      "text/plain": [
       "(8128, 13)"
      ]
     },
     "execution_count": 4,
     "metadata": {},
     "output_type": "execute_result"
    }
   ],
   "source": [
    "# That mean you data have 12 feature and 1 label \n",
    "df.shape"
   ]
  },
  {
   "cell_type": "code",
   "execution_count": 5,
   "metadata": {},
   "outputs": [
    {
     "name": "stdout",
     "output_type": "stream",
     "text": [
      "<class 'pandas.core.frame.DataFrame'>\n",
      "RangeIndex: 8128 entries, 0 to 8127\n",
      "Data columns (total 13 columns):\n",
      " #   Column         Non-Null Count  Dtype  \n",
      "---  ------         --------------  -----  \n",
      " 0   name           8128 non-null   object \n",
      " 1   year           8128 non-null   int64  \n",
      " 2   selling_price  8128 non-null   int64  \n",
      " 3   km_driven      8128 non-null   int64  \n",
      " 4   fuel           8128 non-null   object \n",
      " 5   seller_type    8128 non-null   object \n",
      " 6   transmission   8128 non-null   object \n",
      " 7   owner          8128 non-null   object \n",
      " 8   mileage        7907 non-null   object \n",
      " 9   engine         7907 non-null   object \n",
      " 10  max_power      7913 non-null   object \n",
      " 11  torque         7906 non-null   object \n",
      " 12  seats          7907 non-null   float64\n",
      "dtypes: float64(1), int64(3), object(9)\n",
      "memory usage: 825.6+ KB\n"
     ]
    }
   ],
   "source": [
    "# Check Dtypes of your input data\n",
    "df.info() "
   ]
  },
  {
   "cell_type": "markdown",
   "metadata": {},
   "source": [
    "you will see that are so many object type so we need to do something with this first. Follow the instruction of Chaky, First we need to\n",
    "- map First owner to 1, ..., Test Drive Car to 5"
   ]
  },
  {
   "cell_type": "code",
   "execution_count": 6,
   "metadata": {},
   "outputs": [
    {
     "name": "stdout",
     "output_type": "stream",
     "text": [
      "{'Third Owner', 'First Owner', 'Test Drive Car', 'Second Owner', 'Fourth & Above Owner'}\n"
     ]
    }
   ],
   "source": [
    "le = LabelEncoder()\n",
    "print(set(df[\"owner\"]))\n",
    "df[\"owner\"] = le.fit_transform(df[\"owner\"])+1"
   ]
  },
  {
   "cell_type": "code",
   "execution_count": 7,
   "metadata": {},
   "outputs": [
    {
     "data": {
      "text/plain": [
       "0       1\n",
       "1       3\n",
       "2       5\n",
       "3       1\n",
       "4       1\n",
       "       ..\n",
       "8123    1\n",
       "8124    2\n",
       "8125    1\n",
       "8126    1\n",
       "8127    1\n",
       "Name: owner, Length: 8128, dtype: int32"
      ]
     },
     "execution_count": 7,
     "metadata": {},
     "output_type": "execute_result"
    }
   ],
   "source": [
    "df[\"owner\"]"
   ]
  },
  {
   "cell_type": "code",
   "execution_count": 8,
   "metadata": {},
   "outputs": [
    {
     "data": {
      "text/plain": [
       "array([0])"
      ]
     },
     "execution_count": 8,
     "metadata": {},
     "output_type": "execute_result"
    }
   ],
   "source": [
    "le.transform(['First Owner'])"
   ]
  },
  {
   "cell_type": "code",
   "execution_count": 9,
   "metadata": {},
   "outputs": [
    {
     "data": {
      "text/plain": [
       "{1, 2, 3, 4, 5}"
      ]
     },
     "execution_count": 9,
     "metadata": {},
     "output_type": "execute_result"
    }
   ],
   "source": [
    "set(df[\"owner\"]) #Now the owner feature is already map to number"
   ]
  },
  {
   "cell_type": "markdown",
   "metadata": {},
   "source": [
    "• For the feature fuel, remove all rows with CNG and LPG because CNG and LPG use a different\n",
    "mileage system i.e., km/kg which is different from kmfeaturepl for Diesel and Petrol"
   ]
  },
  {
   "cell_type": "code",
   "execution_count": 10,
   "metadata": {},
   "outputs": [
    {
     "data": {
      "text/plain": [
       "Diesel    4402\n",
       "Petrol    3631\n",
       "CNG         57\n",
       "LPG         38\n",
       "Name: fuel, dtype: int64"
      ]
     },
     "execution_count": 10,
     "metadata": {},
     "output_type": "execute_result"
    }
   ],
   "source": [
    "df['fuel'].value_counts() #Before"
   ]
  },
  {
   "cell_type": "code",
   "execution_count": 11,
   "metadata": {},
   "outputs": [
    {
     "data": {
      "text/plain": [
       "Diesel    4402\n",
       "Petrol    3631\n",
       "Name: fuel, dtype: int64"
      ]
     },
     "execution_count": 11,
     "metadata": {},
     "output_type": "execute_result"
    }
   ],
   "source": [
    "df_filtered = df.loc[~df['fuel'].isin(['CNG', 'LPG'])]\n",
    "df_filtered['fuel'].value_counts() #After"
   ]
  },
  {
   "cell_type": "markdown",
   "metadata": {},
   "source": [
    "- For the feature mileage, remove “kmpl” and convert the column to numerical type (e.g., float).\n",
    "Hint: use df.mileage.str.split"
   ]
  },
  {
   "cell_type": "code",
   "execution_count": 12,
   "metadata": {},
   "outputs": [
    {
     "data": {
      "text/plain": [
       "'23.4 kmpl'"
      ]
     },
     "execution_count": 12,
     "metadata": {},
     "output_type": "execute_result"
    }
   ],
   "source": [
    "df_filtered['mileage'][0]"
   ]
  },
  {
   "cell_type": "code",
   "execution_count": 13,
   "metadata": {},
   "outputs": [
    {
     "name": "stderr",
     "output_type": "stream",
     "text": [
      "C:\\Users\\earth\\AppData\\Local\\Temp\\ipykernel_19716\\3418012339.py:2: SettingWithCopyWarning: \n",
      "A value is trying to be set on a copy of a slice from a DataFrame.\n",
      "Try using .loc[row_indexer,col_indexer] = value instead\n",
      "\n",
      "See the caveats in the documentation: https://pandas.pydata.org/pandas-docs/stable/user_guide/indexing.html#returning-a-view-versus-a-copy\n",
      "  df_filtered['mileage'] = df_filtered['mileage'].str.split(' ').str[0].astype(float)\n"
     ]
    }
   ],
   "source": [
    "# Remove the \"kmpl\" by split and select the first object ['23.4', 'kmpl'] and convert to float\n",
    "df_filtered['mileage'] = df_filtered['mileage'].str.split(' ').str[0].astype(float)"
   ]
  },
  {
   "cell_type": "markdown",
   "metadata": {},
   "source": [
    "- For the feature engine, remove “CC” and convert the column to numerical type (e.g., float)"
   ]
  },
  {
   "cell_type": "code",
   "execution_count": 14,
   "metadata": {},
   "outputs": [
    {
     "name": "stderr",
     "output_type": "stream",
     "text": [
      "C:\\Users\\earth\\AppData\\Local\\Temp\\ipykernel_19716\\3239265068.py:1: SettingWithCopyWarning: \n",
      "A value is trying to be set on a copy of a slice from a DataFrame.\n",
      "Try using .loc[row_indexer,col_indexer] = value instead\n",
      "\n",
      "See the caveats in the documentation: https://pandas.pydata.org/pandas-docs/stable/user_guide/indexing.html#returning-a-view-versus-a-copy\n",
      "  df_filtered['engine'] = df_filtered['engine'].str.split(' ').str[0].astype(float)\n"
     ]
    }
   ],
   "source": [
    "df_filtered['engine'] = df_filtered['engine'].str.split(' ').str[0].astype(float)"
   ]
  },
  {
   "cell_type": "markdown",
   "metadata": {},
   "source": [
    "- Do the same for max power"
   ]
  },
  {
   "cell_type": "code",
   "execution_count": 15,
   "metadata": {},
   "outputs": [
    {
     "name": "stderr",
     "output_type": "stream",
     "text": [
      "C:\\Users\\earth\\AppData\\Local\\Temp\\ipykernel_19716\\1974573241.py:1: SettingWithCopyWarning: \n",
      "A value is trying to be set on a copy of a slice from a DataFrame.\n",
      "Try using .loc[row_indexer,col_indexer] = value instead\n",
      "\n",
      "See the caveats in the documentation: https://pandas.pydata.org/pandas-docs/stable/user_guide/indexing.html#returning-a-view-versus-a-copy\n",
      "  df_filtered['max_power'] = df_filtered['max_power'].str.split(' ').str[0].astype(float)\n"
     ]
    }
   ],
   "source": [
    "df_filtered['max_power'] = df_filtered['max_power'].str.split(' ').str[0].astype(float)"
   ]
  },
  {
   "cell_type": "markdown",
   "metadata": {},
   "source": [
    " For the feature brand, take only the first word and remove the rest"
   ]
  },
  {
   "cell_type": "code",
   "execution_count": 16,
   "metadata": {},
   "outputs": [
    {
     "name": "stderr",
     "output_type": "stream",
     "text": [
      "C:\\Users\\earth\\AppData\\Local\\Temp\\ipykernel_19716\\81196181.py:1: SettingWithCopyWarning: \n",
      "A value is trying to be set on a copy of a slice from a DataFrame.\n",
      "Try using .loc[row_indexer,col_indexer] = value instead\n",
      "\n",
      "See the caveats in the documentation: https://pandas.pydata.org/pandas-docs/stable/user_guide/indexing.html#returning-a-view-versus-a-copy\n",
      "  df_filtered['name'] = df_filtered['name'].str.split(' ').str[0]\n"
     ]
    }
   ],
   "source": [
    "df_filtered['name'] = df_filtered['name'].str.split(' ').str[0]"
   ]
  },
  {
   "cell_type": "markdown",
   "metadata": {},
   "source": [
    "Drop the feature torque, simply because Chaky’s company does not understand well about it"
   ]
  },
  {
   "cell_type": "code",
   "execution_count": 17,
   "metadata": {},
   "outputs": [],
   "source": [
    "df_filtered = df_filtered.drop('torque', axis=1)"
   ]
  },
  {
   "cell_type": "markdown",
   "metadata": {},
   "source": [
    "- You will found out that Test Drive Cars are ridiculously expensive. Since we do not want to\n",
    "involve this, we will simply delete all samples related to it"
   ]
  },
  {
   "cell_type": "code",
   "execution_count": 18,
   "metadata": {},
   "outputs": [
    {
     "data": {
      "text/plain": [
       "array([3])"
      ]
     },
     "execution_count": 18,
     "metadata": {},
     "output_type": "execute_result"
    }
   ],
   "source": [
    "le.transform([\"Test Drive Car\"])"
   ]
  },
  {
   "cell_type": "code",
   "execution_count": 19,
   "metadata": {},
   "outputs": [
    {
     "name": "stdout",
     "output_type": "stream",
     "text": [
      "[1 3 5 2 4] 8033\n",
      "[1 5 2 4] 5960\n"
     ]
    }
   ],
   "source": [
    "print(df_filtered['owner'].unique(), df_filtered['owner'].count()) #the owner feature before we delete Test drive car\n",
    "df_filteredd = df_filtered[df_filtered['owner'] != 3] #we know Test drive car is map to 3\n",
    "print(df_filteredd['owner'].unique(), df_filteredd['owner'].count()) #the owner after deleted"
   ]
  },
  {
   "cell_type": "markdown",
   "metadata": {},
   "source": [
    "- Since selling price is a big number, it can cause your prediction to be very unstable. One trick\n",
    "is to first transform the label using log transform, i.e.,"
   ]
  },
  {
   "cell_type": "code",
   "execution_count": 20,
   "metadata": {},
   "outputs": [
    {
     "name": "stderr",
     "output_type": "stream",
     "text": [
      "C:\\Users\\earth\\AppData\\Local\\Temp\\ipykernel_19716\\2761593400.py:1: SettingWithCopyWarning: \n",
      "A value is trying to be set on a copy of a slice from a DataFrame.\n",
      "Try using .loc[row_indexer,col_indexer] = value instead\n",
      "\n",
      "See the caveats in the documentation: https://pandas.pydata.org/pandas-docs/stable/user_guide/indexing.html#returning-a-view-versus-a-copy\n",
      "  df_filteredd['selling_price'] = np.log(df_filteredd['selling_price'])\n"
     ]
    }
   ],
   "source": [
    "df_filteredd['selling_price'] = np.log(df_filteredd['selling_price'])"
   ]
  },
  {
   "cell_type": "markdown",
   "metadata": {},
   "source": [
    "Finally this is a clean data after do following step."
   ]
  },
  {
   "cell_type": "code",
   "execution_count": 21,
   "metadata": {},
   "outputs": [
    {
     "data": {
      "text/html": [
       "<div>\n",
       "<style scoped>\n",
       "    .dataframe tbody tr th:only-of-type {\n",
       "        vertical-align: middle;\n",
       "    }\n",
       "\n",
       "    .dataframe tbody tr th {\n",
       "        vertical-align: top;\n",
       "    }\n",
       "\n",
       "    .dataframe thead th {\n",
       "        text-align: right;\n",
       "    }\n",
       "</style>\n",
       "<table border=\"1\" class=\"dataframe\">\n",
       "  <thead>\n",
       "    <tr style=\"text-align: right;\">\n",
       "      <th></th>\n",
       "      <th>name</th>\n",
       "      <th>year</th>\n",
       "      <th>selling_price</th>\n",
       "      <th>km_driven</th>\n",
       "      <th>fuel</th>\n",
       "      <th>seller_type</th>\n",
       "      <th>transmission</th>\n",
       "      <th>owner</th>\n",
       "      <th>mileage</th>\n",
       "      <th>engine</th>\n",
       "      <th>max_power</th>\n",
       "      <th>seats</th>\n",
       "    </tr>\n",
       "  </thead>\n",
       "  <tbody>\n",
       "    <tr>\n",
       "      <th>0</th>\n",
       "      <td>Maruti</td>\n",
       "      <td>2014</td>\n",
       "      <td>13.017003</td>\n",
       "      <td>145500</td>\n",
       "      <td>Diesel</td>\n",
       "      <td>Individual</td>\n",
       "      <td>Manual</td>\n",
       "      <td>1</td>\n",
       "      <td>23.40</td>\n",
       "      <td>1248.0</td>\n",
       "      <td>74.00</td>\n",
       "      <td>5.0</td>\n",
       "    </tr>\n",
       "    <tr>\n",
       "      <th>2</th>\n",
       "      <td>Honda</td>\n",
       "      <td>2006</td>\n",
       "      <td>11.970350</td>\n",
       "      <td>140000</td>\n",
       "      <td>Petrol</td>\n",
       "      <td>Individual</td>\n",
       "      <td>Manual</td>\n",
       "      <td>5</td>\n",
       "      <td>17.70</td>\n",
       "      <td>1497.0</td>\n",
       "      <td>78.00</td>\n",
       "      <td>5.0</td>\n",
       "    </tr>\n",
       "    <tr>\n",
       "      <th>3</th>\n",
       "      <td>Hyundai</td>\n",
       "      <td>2010</td>\n",
       "      <td>12.323856</td>\n",
       "      <td>127000</td>\n",
       "      <td>Diesel</td>\n",
       "      <td>Individual</td>\n",
       "      <td>Manual</td>\n",
       "      <td>1</td>\n",
       "      <td>23.00</td>\n",
       "      <td>1396.0</td>\n",
       "      <td>90.00</td>\n",
       "      <td>5.0</td>\n",
       "    </tr>\n",
       "    <tr>\n",
       "      <th>4</th>\n",
       "      <td>Maruti</td>\n",
       "      <td>2007</td>\n",
       "      <td>11.775290</td>\n",
       "      <td>120000</td>\n",
       "      <td>Petrol</td>\n",
       "      <td>Individual</td>\n",
       "      <td>Manual</td>\n",
       "      <td>1</td>\n",
       "      <td>16.10</td>\n",
       "      <td>1298.0</td>\n",
       "      <td>88.20</td>\n",
       "      <td>5.0</td>\n",
       "    </tr>\n",
       "    <tr>\n",
       "      <th>5</th>\n",
       "      <td>Hyundai</td>\n",
       "      <td>2017</td>\n",
       "      <td>12.994530</td>\n",
       "      <td>45000</td>\n",
       "      <td>Petrol</td>\n",
       "      <td>Individual</td>\n",
       "      <td>Manual</td>\n",
       "      <td>1</td>\n",
       "      <td>20.14</td>\n",
       "      <td>1197.0</td>\n",
       "      <td>81.86</td>\n",
       "      <td>5.0</td>\n",
       "    </tr>\n",
       "  </tbody>\n",
       "</table>\n",
       "</div>"
      ],
      "text/plain": [
       "      name  year  selling_price  km_driven    fuel seller_type transmission  \\\n",
       "0   Maruti  2014      13.017003     145500  Diesel  Individual       Manual   \n",
       "2    Honda  2006      11.970350     140000  Petrol  Individual       Manual   \n",
       "3  Hyundai  2010      12.323856     127000  Diesel  Individual       Manual   \n",
       "4   Maruti  2007      11.775290     120000  Petrol  Individual       Manual   \n",
       "5  Hyundai  2017      12.994530      45000  Petrol  Individual       Manual   \n",
       "\n",
       "   owner  mileage  engine  max_power  seats  \n",
       "0      1    23.40  1248.0      74.00    5.0  \n",
       "2      5    17.70  1497.0      78.00    5.0  \n",
       "3      1    23.00  1396.0      90.00    5.0  \n",
       "4      1    16.10  1298.0      88.20    5.0  \n",
       "5      1    20.14  1197.0      81.86    5.0  "
      ]
     },
     "execution_count": 21,
     "metadata": {},
     "output_type": "execute_result"
    }
   ],
   "source": [
    "df_filteredd.head() "
   ]
  },
  {
   "cell_type": "code",
   "execution_count": 22,
   "metadata": {},
   "outputs": [
    {
     "data": {
      "text/html": [
       "<div>\n",
       "<style scoped>\n",
       "    .dataframe tbody tr th:only-of-type {\n",
       "        vertical-align: middle;\n",
       "    }\n",
       "\n",
       "    .dataframe tbody tr th {\n",
       "        vertical-align: top;\n",
       "    }\n",
       "\n",
       "    .dataframe thead th {\n",
       "        text-align: right;\n",
       "    }\n",
       "</style>\n",
       "<table border=\"1\" class=\"dataframe\">\n",
       "  <thead>\n",
       "    <tr style=\"text-align: right;\">\n",
       "      <th></th>\n",
       "      <th>year</th>\n",
       "      <th>selling_price</th>\n",
       "      <th>km_driven</th>\n",
       "      <th>owner</th>\n",
       "      <th>mileage</th>\n",
       "      <th>engine</th>\n",
       "      <th>max_power</th>\n",
       "      <th>seats</th>\n",
       "    </tr>\n",
       "  </thead>\n",
       "  <tbody>\n",
       "    <tr>\n",
       "      <th>count</th>\n",
       "      <td>5960.000000</td>\n",
       "      <td>5960.000000</td>\n",
       "      <td>5.960000e+03</td>\n",
       "      <td>5960.000000</td>\n",
       "      <td>5831.000000</td>\n",
       "      <td>5831.000000</td>\n",
       "      <td>5837.000000</td>\n",
       "      <td>5831.000000</td>\n",
       "    </tr>\n",
       "    <tr>\n",
       "      <th>mean</th>\n",
       "      <td>2014.561074</td>\n",
       "      <td>13.105088</td>\n",
       "      <td>6.268093e+04</td>\n",
       "      <td>1.398154</td>\n",
       "      <td>19.637210</td>\n",
       "      <td>1456.294461</td>\n",
       "      <td>93.591889</td>\n",
       "      <td>5.401475</td>\n",
       "    </tr>\n",
       "    <tr>\n",
       "      <th>std</th>\n",
       "      <td>3.835775</td>\n",
       "      <td>0.836889</td>\n",
       "      <td>4.965373e+04</td>\n",
       "      <td>1.160271</td>\n",
       "      <td>3.998052</td>\n",
       "      <td>496.104314</td>\n",
       "      <td>37.144458</td>\n",
       "      <td>0.944711</td>\n",
       "    </tr>\n",
       "    <tr>\n",
       "      <th>min</th>\n",
       "      <td>1983.000000</td>\n",
       "      <td>10.308919</td>\n",
       "      <td>1.000000e+03</td>\n",
       "      <td>1.000000</td>\n",
       "      <td>0.000000</td>\n",
       "      <td>624.000000</td>\n",
       "      <td>0.000000</td>\n",
       "      <td>2.000000</td>\n",
       "    </tr>\n",
       "    <tr>\n",
       "      <th>25%</th>\n",
       "      <td>2012.000000</td>\n",
       "      <td>12.611538</td>\n",
       "      <td>2.809500e+04</td>\n",
       "      <td>1.000000</td>\n",
       "      <td>16.950000</td>\n",
       "      <td>1197.000000</td>\n",
       "      <td>70.000000</td>\n",
       "      <td>5.000000</td>\n",
       "    </tr>\n",
       "    <tr>\n",
       "      <th>50%</th>\n",
       "      <td>2016.000000</td>\n",
       "      <td>13.122363</td>\n",
       "      <td>5.458500e+04</td>\n",
       "      <td>1.000000</td>\n",
       "      <td>19.610000</td>\n",
       "      <td>1248.000000</td>\n",
       "      <td>83.140000</td>\n",
       "      <td>5.000000</td>\n",
       "    </tr>\n",
       "    <tr>\n",
       "      <th>75%</th>\n",
       "      <td>2017.000000</td>\n",
       "      <td>13.507626</td>\n",
       "      <td>9.000000e+04</td>\n",
       "      <td>1.000000</td>\n",
       "      <td>22.540000</td>\n",
       "      <td>1582.000000</td>\n",
       "      <td>103.500000</td>\n",
       "      <td>5.000000</td>\n",
       "    </tr>\n",
       "    <tr>\n",
       "      <th>max</th>\n",
       "      <td>2020.000000</td>\n",
       "      <td>16.118096</td>\n",
       "      <td>1.500000e+06</td>\n",
       "      <td>5.000000</td>\n",
       "      <td>42.000000</td>\n",
       "      <td>3604.000000</td>\n",
       "      <td>400.000000</td>\n",
       "      <td>14.000000</td>\n",
       "    </tr>\n",
       "  </tbody>\n",
       "</table>\n",
       "</div>"
      ],
      "text/plain": [
       "              year  selling_price     km_driven        owner      mileage  \\\n",
       "count  5960.000000    5960.000000  5.960000e+03  5960.000000  5831.000000   \n",
       "mean   2014.561074      13.105088  6.268093e+04     1.398154    19.637210   \n",
       "std       3.835775       0.836889  4.965373e+04     1.160271     3.998052   \n",
       "min    1983.000000      10.308919  1.000000e+03     1.000000     0.000000   \n",
       "25%    2012.000000      12.611538  2.809500e+04     1.000000    16.950000   \n",
       "50%    2016.000000      13.122363  5.458500e+04     1.000000    19.610000   \n",
       "75%    2017.000000      13.507626  9.000000e+04     1.000000    22.540000   \n",
       "max    2020.000000      16.118096  1.500000e+06     5.000000    42.000000   \n",
       "\n",
       "            engine    max_power        seats  \n",
       "count  5831.000000  5837.000000  5831.000000  \n",
       "mean   1456.294461    93.591889     5.401475  \n",
       "std     496.104314    37.144458     0.944711  \n",
       "min     624.000000     0.000000     2.000000  \n",
       "25%    1197.000000    70.000000     5.000000  \n",
       "50%    1248.000000    83.140000     5.000000  \n",
       "75%    1582.000000   103.500000     5.000000  \n",
       "max    3604.000000   400.000000    14.000000  "
      ]
     },
     "execution_count": 22,
     "metadata": {},
     "output_type": "execute_result"
    }
   ],
   "source": [
    "df_filteredd.describe()"
   ]
  },
  {
   "cell_type": "code",
   "execution_count": 23,
   "metadata": {},
   "outputs": [
    {
     "name": "stdout",
     "output_type": "stream",
     "text": [
      "<class 'pandas.core.frame.DataFrame'>\n",
      "Int64Index: 5960 entries, 0 to 8127\n",
      "Data columns (total 12 columns):\n",
      " #   Column         Non-Null Count  Dtype  \n",
      "---  ------         --------------  -----  \n",
      " 0   name           5960 non-null   object \n",
      " 1   year           5960 non-null   int64  \n",
      " 2   selling_price  5960 non-null   float64\n",
      " 3   km_driven      5960 non-null   int64  \n",
      " 4   fuel           5960 non-null   object \n",
      " 5   seller_type    5960 non-null   object \n",
      " 6   transmission   5960 non-null   object \n",
      " 7   owner          5960 non-null   int32  \n",
      " 8   mileage        5831 non-null   float64\n",
      " 9   engine         5831 non-null   float64\n",
      " 10  max_power      5837 non-null   float64\n",
      " 11  seats          5831 non-null   float64\n",
      "dtypes: float64(5), int32(1), int64(2), object(4)\n",
      "memory usage: 582.0+ KB\n"
     ]
    }
   ],
   "source": [
    "df_filteredd.info()"
   ]
  },
  {
   "cell_type": "markdown",
   "metadata": {},
   "source": [
    "## 2. Exploratory Data Analysis\n",
    "\n",
    "EDA is an essential step to inspect the data, so to better understand nature of the given data."
   ]
  },
  {
   "cell_type": "markdown",
   "metadata": {},
   "source": [
    "### Boxplot"
   ]
  },
  {
   "cell_type": "code",
   "execution_count": 24,
   "metadata": {},
   "outputs": [
    {
     "data": {
      "text/plain": [
       "<AxesSubplot:xlabel='seats', ylabel='count'>"
      ]
     },
     "execution_count": 24,
     "metadata": {},
     "output_type": "execute_result"
    },
    {
     "data": {
      "image/png": "[encoded data removed]",
      "text/plain": [
       "<Figure size 432x288 with 1 Axes>"
      ]
     },
     "metadata": {
      "needs_background": "light"
     },
     "output_type": "display_data"
    }
   ],
   "source": [
    "# most of data in this datasets is 5 seats car.\n",
    "sns.countplot(data = df_filteredd, x = 'seats')"
   ]
  },
  {
   "cell_type": "code",
   "execution_count": 25,
   "metadata": {},
   "outputs": [
    {
     "data": {
      "text/plain": [
       "<AxesSubplot:xlabel='transmission', ylabel='count'>"
      ]
     },
     "execution_count": 25,
     "metadata": {},
     "output_type": "execute_result"
    },
    {
     "data": {
      "image/png": "[encoded data removed]",
      "text/plain": [
       "<Figure size 432x288 with 1 Axes>"
      ]
     },
     "metadata": {
      "needs_background": "light"
     },
     "output_type": "display_data"
    }
   ],
   "source": [
    "sns.countplot(data = df_filteredd, x = 'transmission')"
   ]
  },
  {
   "cell_type": "code",
   "execution_count": 26,
   "metadata": {},
   "outputs": [
    {
     "data": {
      "text/plain": [
       "<AxesSubplot:xlabel='seller_type', ylabel='count'>"
      ]
     },
     "execution_count": 26,
     "metadata": {},
     "output_type": "execute_result"
    },
    {
     "data": {
      "image/png": "[encoded data removed]",
      "text/plain": [
       "<Figure size 432x288 with 1 Axes>"
      ]
     },
     "metadata": {
      "needs_background": "light"
     },
     "output_type": "display_data"
    }
   ],
   "source": [
    "sns.countplot(data = df_filteredd, x = 'seller_type')"
   ]
  },
  {
   "cell_type": "markdown",
   "metadata": {},
   "source": [
    "#### Correlation Matrix\n",
    "\n",
    "Let's use correlation matrix to find strong factors predicting the life expectancy.  It's also for checking whether certain features are too correlated."
   ]
  },
  {
   "cell_type": "code",
   "execution_count": 27,
   "metadata": {},
   "outputs": [
    {
     "data": {
      "text/plain": [
       "<AxesSubplot:>"
      ]
     },
     "execution_count": 27,
     "metadata": {},
     "output_type": "execute_result"
    },
    {
     "data": {
      "image/png": "[encoded data removed]",
      "text/plain": [
       "<Figure size 1080x576 with 2 Axes>"
      ]
     },
     "metadata": {
      "needs_background": "light"
     },
     "output_type": "display_data"
    }
   ],
   "source": [
    "filtered_corr = df_filteredd.corr()\n",
    "plt.figure(figsize = (15,8))\n",
    "sns.heatmap(filtered_corr,  annot=True, cmap=\"coolwarm\")"
   ]
  },
  {
   "cell_type": "code",
   "execution_count": 28,
   "metadata": {},
   "outputs": [
    {
     "data": {
      "text/plain": [
       "<AxesSubplot:xlabel='x', ylabel='y'>"
      ]
     },
     "execution_count": 28,
     "metadata": {},
     "output_type": "execute_result"
    },
    {
     "data": {
      "image/png": "[encoded data removed]",
      "text/plain": [
       "<Figure size 1080x576 with 2 Axes>"
      ]
     },
     "metadata": {
      "needs_background": "light"
     },
     "output_type": "display_data"
    }
   ],
   "source": [
    "import ppscore as pps\n",
    "\n",
    "# before using pps, let's drop country and year\n",
    "dfcopy = df_filteredd.copy()\n",
    "dfcopy.drop([ 'transmission', 'name', 'seller_type', 'fuel'], axis='columns', inplace=True)\n",
    "\n",
    "#this needs some minor preprocessing because seaborn.heatmap unfortunately does not accept tidy data\n",
    "matrix_df = pps.matrix(dfcopy)[['x', 'y', 'ppscore']].pivot(columns='x', index='y', values='ppscore')\n",
    "\n",
    "#plot\n",
    "plt.figure(figsize = (15,8))\n",
    "sns.heatmap(matrix_df, vmin=0, vmax=1, cmap=\"Blues\", linewidths=0.5, annot=True)"
   ]
  },
  {
   "cell_type": "markdown",
   "metadata": {},
   "source": [
    "## 3. Feature selection"
   ]
  },
  {
   "cell_type": "code",
   "execution_count": 29,
   "metadata": {},
   "outputs": [],
   "source": [
    "X = dfcopy[['engine', 'max_power', 'year']]\n",
    "y = dfcopy[\"selling_price\"]"
   ]
  },
  {
   "cell_type": "code",
   "execution_count": 30,
   "metadata": {},
   "outputs": [],
   "source": [
    "from sklearn.model_selection import train_test_split\n",
    "\n",
    "X_train, X_test, y_train, y_test = train_test_split(X, y, test_size = 0.3, random_state = 99)"
   ]
  },
  {
   "cell_type": "code",
   "execution_count": 31,
   "metadata": {},
   "outputs": [
    {
     "data": {
      "text/plain": [
       "engine       98\n",
       "max_power    95\n",
       "year          0\n",
       "dtype: int64"
      ]
     },
     "execution_count": 31,
     "metadata": {},
     "output_type": "execute_result"
    }
   ],
   "source": [
    "X_train[['engine', 'max_power', 'year']].isna().sum()"
   ]
  },
  {
   "cell_type": "code",
   "execution_count": 32,
   "metadata": {},
   "outputs": [
    {
     "data": {
      "text/plain": [
       "engine       31\n",
       "max_power    28\n",
       "year          0\n",
       "dtype: int64"
      ]
     },
     "execution_count": 32,
     "metadata": {},
     "output_type": "execute_result"
    }
   ],
   "source": [
    "X_test[['engine', 'max_power', 'year']].isna().sum()"
   ]
  },
  {
   "cell_type": "code",
   "execution_count": 33,
   "metadata": {},
   "outputs": [
    {
     "data": {
      "text/plain": [
       "<seaborn.axisgrid.FacetGrid at 0x1c325fc2cd0>"
      ]
     },
     "execution_count": 33,
     "metadata": {},
     "output_type": "execute_result"
    },
    {
     "data": {
      "image/png": "[encoded data removed]",
      "text/plain": [
       "<Figure size 360x360 with 1 Axes>"
      ]
     },
     "metadata": {
      "needs_background": "light"
     },
     "output_type": "display_data"
    }
   ],
   "source": [
    "sns.displot(data=dfcopy, x='engine')"
   ]
  },
  {
   "cell_type": "code",
   "execution_count": 34,
   "metadata": {},
   "outputs": [
    {
     "name": "stdout",
     "output_type": "stream",
     "text": [
      "Mode (value with highest count): 1248.0\n"
     ]
    }
   ],
   "source": [
    "mode_value = dfcopy['engine'].mode()[0]\n",
    "print(\"Mode (value with highest count):\", mode_value)"
   ]
  },
  {
   "cell_type": "code",
   "execution_count": 35,
   "metadata": {},
   "outputs": [
    {
     "data": {
      "text/plain": [
       "1248.0"
      ]
     },
     "execution_count": 35,
     "metadata": {},
     "output_type": "execute_result"
    }
   ],
   "source": [
    "dfcopy['engine'].median()"
   ]
  },
  {
   "cell_type": "code",
   "execution_count": 36,
   "metadata": {},
   "outputs": [
    {
     "data": {
      "text/plain": [
       "<seaborn.axisgrid.FacetGrid at 0x1c325fb0d60>"
      ]
     },
     "execution_count": 36,
     "metadata": {},
     "output_type": "execute_result"
    },
    {
     "data": {
      "image/png": "[encoded data removed]",
      "text/plain": [
       "<Figure size 360x360 with 1 Axes>"
      ]
     },
     "metadata": {
      "needs_background": "light"
     },
     "output_type": "display_data"
    }
   ],
   "source": [
    "sns.displot(data=dfcopy, x='engine')"
   ]
  },
  {
   "cell_type": "code",
   "execution_count": 37,
   "metadata": {},
   "outputs": [
    {
     "name": "stdout",
     "output_type": "stream",
     "text": [
      "Mode (value with highest count): 1248.0\n"
     ]
    }
   ],
   "source": [
    "mode_value = dfcopy['engine'].mode()[0]\n",
    "print(\"Mode (value with highest count):\", mode_value)"
   ]
  },
  {
   "cell_type": "code",
   "execution_count": 38,
   "metadata": {},
   "outputs": [
    {
     "data": {
      "text/plain": [
       "1248.0"
      ]
     },
     "execution_count": 38,
     "metadata": {},
     "output_type": "execute_result"
    }
   ],
   "source": [
    "dfcopy['engine'].median()"
   ]
  },
  {
   "cell_type": "code",
   "execution_count": 39,
   "metadata": {},
   "outputs": [
    {
     "data": {
      "text/plain": [
       "<seaborn.axisgrid.FacetGrid at 0x1c3264464f0>"
      ]
     },
     "execution_count": 39,
     "metadata": {},
     "output_type": "execute_result"
    },
    {
     "data": {
      "image/png": "[encoded data removed]",
      "text/plain": [
       "<Figure size 360x360 with 1 Axes>"
      ]
     },
     "metadata": {
      "needs_background": "light"
     },
     "output_type": "display_data"
    }
   ],
   "source": [
    "sns.displot(data=dfcopy, x='max_power')"
   ]
  },
  {
   "cell_type": "code",
   "execution_count": 40,
   "metadata": {},
   "outputs": [
    {
     "name": "stdout",
     "output_type": "stream",
     "text": [
      "Mode (value with highest count): 74.0\n"
     ]
    }
   ],
   "source": [
    "mode_value = dfcopy['max_power'].mode()[0]\n",
    "print(\"Mode (value with highest count):\", mode_value)"
   ]
  },
  {
   "cell_type": "code",
   "execution_count": 41,
   "metadata": {},
   "outputs": [
    {
     "data": {
      "text/plain": [
       "83.14"
      ]
     },
     "execution_count": 41,
     "metadata": {},
     "output_type": "execute_result"
    }
   ],
   "source": [
    "dfcopy['max_power'].median()"
   ]
  },
  {
   "cell_type": "code",
   "execution_count": 42,
   "metadata": {},
   "outputs": [
    {
     "data": {
      "text/plain": [
       "93.59188881274628"
      ]
     },
     "execution_count": 42,
     "metadata": {},
     "output_type": "execute_result"
    }
   ],
   "source": [
    "dfcopy['max_power'].mean()"
   ]
  },
  {
   "cell_type": "code",
   "execution_count": 43,
   "metadata": {},
   "outputs": [
    {
     "data": {
      "text/plain": [
       "<seaborn.axisgrid.FacetGrid at 0x1c324c75d30>"
      ]
     },
     "execution_count": 43,
     "metadata": {},
     "output_type": "execute_result"
    },
    {
     "data": {
      "image/png": "[encoded data removed]",
      "text/plain": [
       "<Figure size 360x360 with 1 Axes>"
      ]
     },
     "metadata": {
      "needs_background": "light"
     },
     "output_type": "display_data"
    }
   ],
   "source": [
    "sns.displot(data=dfcopy, x='year')"
   ]
  },
  {
   "cell_type": "code",
   "execution_count": 44,
   "metadata": {},
   "outputs": [
    {
     "name": "stdout",
     "output_type": "stream",
     "text": [
      "Mode (value with highest count): 2017\n"
     ]
    }
   ],
   "source": [
    "mode_value = dfcopy['year'].mode()[0]\n",
    "print(\"Mode (value with highest count):\", mode_value)"
   ]
  },
  {
   "cell_type": "code",
   "execution_count": 45,
   "metadata": {},
   "outputs": [
    {
     "data": {
      "text/plain": [
       "2016.0"
      ]
     },
     "execution_count": 45,
     "metadata": {},
     "output_type": "execute_result"
    }
   ],
   "source": [
    "dfcopy['year'].median()"
   ]
  },
  {
   "cell_type": "code",
   "execution_count": 46,
   "metadata": {},
   "outputs": [],
   "source": [
    "X_train['engine'].fillna(X_train['engine'].median(), inplace=True)\n",
    "X_train['max_power'].fillna(X_train['max_power'].median(), inplace=True)\n",
    "X_train['year'].fillna(X_train['year'].median(), inplace=True)"
   ]
  },
  {
   "cell_type": "code",
   "execution_count": 47,
   "metadata": {},
   "outputs": [],
   "source": [
    "X_test['engine'].fillna(X_test['engine'].median(), inplace=True)\n",
    "X_test['max_power'].fillna(X_test['max_power'].median(), inplace=True)\n",
    "X_test['year'].fillna(X_test['year'].median(), inplace=True)"
   ]
  },
  {
   "cell_type": "code",
   "execution_count": 48,
   "metadata": {},
   "outputs": [
    {
     "data": {
      "text/plain": [
       "engine       0\n",
       "max_power    0\n",
       "year         0\n",
       "dtype: int64"
      ]
     },
     "execution_count": 48,
     "metadata": {},
     "output_type": "execute_result"
    }
   ],
   "source": [
    "X_train[['engine', 'max_power', 'year']].isna().sum()"
   ]
  },
  {
   "cell_type": "code",
   "execution_count": 49,
   "metadata": {},
   "outputs": [
    {
     "data": {
      "text/plain": [
       "engine       0\n",
       "max_power    0\n",
       "year         0\n",
       "dtype: int64"
      ]
     },
     "execution_count": 49,
     "metadata": {},
     "output_type": "execute_result"
    }
   ],
   "source": [
    "X_test[['engine', 'max_power', 'year']].isna().sum()"
   ]
  },
  {
   "cell_type": "markdown",
   "metadata": {},
   "source": [
    "#### Check the outliner"
   ]
  },
  {
   "cell_type": "code",
   "execution_count": 50,
   "metadata": {},
   "outputs": [
    {
     "data": {
      "image/png": "[encoded data removed]",
      "text/plain": [
       "<Figure size 1440x3600 with 3 Axes>"
      ]
     },
     "metadata": {
      "needs_background": "light"
     },
     "output_type": "display_data"
    }
   ],
   "source": [
    "# Create a dictionary of columns.\n",
    "col_dict = {'engine':1,'max_power':2,'year':3}\n",
    "\n",
    "# Detect outliers in each variable using box plots.\n",
    "plt.figure(figsize=(20,50))\n",
    "\n",
    "for variable,i in col_dict.items():\n",
    "                     plt.subplot(5,4,i)\n",
    "                     plt.boxplot(X_train[variable])\n",
    "                     plt.title(variable)\n",
    "\n",
    "plt.show()"
   ]
  },
  {
   "cell_type": "code",
   "execution_count": 51,
   "metadata": {},
   "outputs": [],
   "source": [
    "def outlier_count(col, data = X_train):\n",
    "    \n",
    "    # calculate your 25% quatile and 75% quatile\n",
    "    q75, q25 = np.percentile(data[col], [75, 25])\n",
    "    \n",
    "    # calculate your inter quatile\n",
    "    iqr = q75 - q25\n",
    "    \n",
    "    # min_val and max_val\n",
    "    min_val = q25 - (iqr*1.5)\n",
    "    max_val = q75 + (iqr*1.5)\n",
    "    \n",
    "    # count number of outliers, which are the data that are less than min_val or more than max_val calculated above\n",
    "    outlier_count = len(np.where((data[col] > max_val) | (data[col] < min_val))[0])\n",
    "    \n",
    "    # calculate the percentage of the outliers\n",
    "    outlier_percent = round(outlier_count/len(data[col])*100, 2)\n",
    "    \n",
    "    if(outlier_count > 0):\n",
    "        print(\"\\n\"+15*'-' + col + 15*'-'+\"\\n\")\n",
    "        print('Number of outliers: {}'.format(outlier_count))\n",
    "        print('Percent of data that is outlier: {}%'.format(outlier_percent))"
   ]
  },
  {
   "cell_type": "code",
   "execution_count": 52,
   "metadata": {},
   "outputs": [
    {
     "name": "stdout",
     "output_type": "stream",
     "text": [
      "\n",
      "---------------engine---------------\n",
      "\n",
      "Number of outliers: 611\n",
      "Percent of data that is outlier: 14.65%\n",
      "\n",
      "---------------max_power---------------\n",
      "\n",
      "Number of outliers: 353\n",
      "Percent of data that is outlier: 8.46%\n",
      "\n",
      "---------------year---------------\n",
      "\n",
      "Number of outliers: 91\n",
      "Percent of data that is outlier: 2.18%\n"
     ]
    }
   ],
   "source": [
    "for col in X_train.columns:\n",
    "    outlier_count(col)"
   ]
  },
  {
   "cell_type": "code",
   "execution_count": 53,
   "metadata": {},
   "outputs": [
    {
     "name": "stdout",
     "output_type": "stream",
     "text": [
      "Shape of X_train:  (4172, 3)\n",
      "Shape of X_test:  (1788, 3)\n",
      "Shape of y_train:  (4172,)\n",
      "Shape of y_test:  (1788,)\n"
     ]
    }
   ],
   "source": [
    "print(\"Shape of X_train: \", X_train.shape)\n",
    "print(\"Shape of X_test: \", X_test.shape)\n",
    "print(\"Shape of y_train: \", y_train.shape)\n",
    "print(\"Shape of y_test: \", y_test.shape)"
   ]
  },
  {
   "cell_type": "code",
   "execution_count": 54,
   "metadata": {},
   "outputs": [],
   "source": [
    "from sklearn.preprocessing import StandardScaler\n",
    "from sklearn.model_selection import train_test_split\n",
    "import numpy as np\n",
    "from time import time\n",
    "\n",
    "scaler = StandardScaler()\n",
    "X_train = scaler.fit_transform(X_train)\n",
    "X_test  = scaler.transform(X_test)\n",
    "\n",
    "intercept = np.ones((X_train.shape[0], 1))\n",
    "X_train   = np.concatenate((intercept, X_train), axis=1)\n",
    "intercept = np.ones((X_test.shape[0], 1))\n",
    "X_test    = np.concatenate((intercept, X_test), axis=1)"
   ]
  },
  {
   "cell_type": "code",
   "execution_count": 55,
   "metadata": {},
   "outputs": [
    {
     "data": {
      "text/plain": [
       "(4172, 4)"
      ]
     },
     "execution_count": 55,
     "metadata": {},
     "output_type": "execute_result"
    }
   ],
   "source": [
    "X_train.shape"
   ]
  },
  {
   "cell_type": "code",
   "execution_count": 56,
   "metadata": {},
   "outputs": [
    {
     "data": {
      "text/plain": [
       "1203    12.971540\n",
       "5088    14.508658\n",
       "7729    11.982929\n",
       "7935    10.596635\n",
       "2962    12.301383\n",
       "          ...    \n",
       "2380    12.736701\n",
       "2342    12.301383\n",
       "4397    13.946539\n",
       "7265    12.542545\n",
       "6459    12.608199\n",
       "Name: selling_price, Length: 4172, dtype: float64"
      ]
     },
     "execution_count": 56,
     "metadata": {},
     "output_type": "execute_result"
    }
   ],
   "source": [
    "y_train"
   ]
  },
  {
   "cell_type": "code",
   "execution_count": 57,
   "metadata": {},
   "outputs": [],
   "source": [
    "num_classes = 4\n",
    "# # Calculate the quantiles\n",
    "quantiles = np.linspace(0, 1, num_classes + 1)\n",
    "\n",
    "# Calculate the actual values at the quantiles\n",
    "quantile_values = y_train.quantile(quantiles)\n",
    "\n",
    "# Manually set negative and positive infinity at the desired quantiles\n",
    "quantile_values[0] = float('-inf')\n",
    "quantile_values[-1] = float('inf')\n",
    "\n",
    "y_train = pd.cut(y_train, bins=quantile_values, labels=False)\n",
    "y_test = pd.cut(y_test, bins=quantile_values, labels=False)"
   ]
  },
  {
   "cell_type": "code",
   "execution_count": 58,
   "metadata": {},
   "outputs": [],
   "source": [
    "y_train_class = y_train.values\n",
    "y_test_class = y_test.values"
   ]
  },
  {
   "cell_type": "code",
   "execution_count": 59,
   "metadata": {},
   "outputs": [],
   "source": [
    "y_train_class = np.array(y_train_class)\n",
    "y_test_class = np.array(y_test_class)"
   ]
  },
  {
   "cell_type": "code",
   "execution_count": 60,
   "metadata": {},
   "outputs": [],
   "source": [
    "k = len(set(y_train_class))\n",
    "m = X_train.shape[0]\n",
    "n = X_train.shape[1]"
   ]
  },
  {
   "cell_type": "code",
   "execution_count": 61,
   "metadata": {},
   "outputs": [
    {
     "name": "stdout",
     "output_type": "stream",
     "text": [
      "Class 0: 1117 \n",
      "Class 1: 988 \n",
      "Class 2: 1034 \n",
      "Class 3: 1033 \n"
     ]
    }
   ],
   "source": [
    "unique_classes, class_counts = np.unique(y_train_class, return_counts=True)\n",
    "\n",
    "# Print the results\n",
    "for class_label, count in zip(unique_classes, class_counts):\n",
    "    print(f\"Class {class_label}: {count} \")"
   ]
  },
  {
   "cell_type": "code",
   "execution_count": 62,
   "metadata": {},
   "outputs": [
    {
     "data": {
      "text/plain": [
       "<Experiment: artifact_location='mlflow-artifacts:/781162288811676217', creation_time=1696177153053, experiment_id='781162288811676217', last_update_time=1696177153053, lifecycle_stage='active', name='st123055-a3', tags={}>"
      ]
     },
     "execution_count": 62,
     "metadata": {},
     "output_type": "execute_result"
    }
   ],
   "source": [
    "import mlflow\n",
    "import os\n",
    "mlflow.set_tracking_uri(\"https://mlflow.cs.ait.ac.th/\")\n",
    "mlflow.set_experiment(experiment_name=\"st123055-a3\")"
   ]
  },
  {
   "cell_type": "markdown",
   "metadata": {},
   "source": [
    "## 4.Modeling"
   ]
  },
  {
   "cell_type": "code",
   "execution_count": 63,
   "metadata": {},
   "outputs": [],
   "source": [
    "import pandas as pd\n",
    "class Logistic_regression(object):\n",
    "     \n",
    "    def __init__(self,regularization, n=4, k=4, lr=0.0001,method='batch', num_epochs=2000, batch_size=254):\n",
    "        self.lr         = lr\n",
    "        self.num_epochs = num_epochs\n",
    "        self.batch_size = batch_size\n",
    "        self.method     = method\n",
    "        self.regularization = regularization\n",
    "        self.n = n\n",
    "        self.num_class = k\n",
    "        self.prev_step = 0\n",
    "        self.moment = True\n",
    "\n",
    "    def xaviar (self, size) :\n",
    "        m = size\n",
    "        lower , upper = -(1.0 / np.sqrt(m)), (1.0 / np.sqrt(m))\n",
    "        numbers = np.random.rand(self.n, self.num_class)\n",
    "        scaled = lower + numbers * (upper - lower)\n",
    "        return scaled\n",
    "    \n",
    "    def fit(self, weight_init,moment ,X_train, y_train):\n",
    "        self.val_loss_old = np.infty\n",
    "        if weight_init == 'zero' :\n",
    "            self.theta = np.zeros(X_train.shape[1])\n",
    "        else :\n",
    "            self.theta = self.xaviar(X_train.shape[1])  \n",
    "        if moment == True :\n",
    "            self.moment = True\n",
    "        else : \n",
    "            self.moment = False        \n",
    "        params = {\"method\": self.method, \"lr\": self.lr, \"reg\": type(self).__name__}\n",
    "        mlflow.log_params(params=params)\n",
    "        for epoch in range(self.num_epochs):\n",
    "            \n",
    "            if self.method == 'sto':\n",
    "                for batch_idx in range(X_train.shape[0]):\n",
    "                    X_method_train = X_train[batch_idx].reshape(1, -1)\n",
    "                    y_method_train = y_train[batch_idx] \n",
    "                    y_method_train = np.array([y_method_train])\n",
    "                    train_loss = self._train(X_method_train, y_method_train)\n",
    "            elif self.method == 'minibatch':\n",
    "                for batch_idx in range(0, X_train.shape[0], self.batch_size):\n",
    "                    X_method_train = X_train[batch_idx:batch_idx+self.batch_size, :]\n",
    "                    y_method_train = y_train[batch_idx:batch_idx+self.batch_size]\n",
    "                    train_loss = self._train(X_method_train, y_method_train)\n",
    "            else:\n",
    "                X_method_train = X_train\n",
    "                y_method_train = y_train\n",
    "                train_loss = self._train(X_method_train, y_method_train)\n",
    "\n",
    "            if epoch % 500 == 0 :\n",
    "                print(f\"loss at epoch {epoch} = {train_loss}\")  \n",
    "\n",
    "    def _train(self, X, y):\n",
    "        yhat = self.predict(X)\n",
    "        m    = X.shape[0]        \n",
    "        grad = X.T @(yhat - y) + self.regularization.derivation(self.theta)\n",
    "        self.theta = self.theta - (self.lr * grad)\n",
    "        if self.method == 'sto' :\n",
    "            y = np.array([y])\n",
    "        return self.loss(y, yhat)\n",
    "\n",
    "    def loss(self, ytrue, ypred) :\n",
    "        return - np.sum(ytrue * np.log(self.softmax(ypred))) / ytrue.shape[0]\n",
    "    \n",
    "    def softmax(self, h_theta) :\n",
    "        return np.exp(h_theta) / np.sum(np.exp(h_theta), axis=1, keepdims=True)\n",
    "\n",
    "    def predict(self, X):\n",
    "        return self.softmax(X @ self.theta)  \n",
    "    \n",
    "    def _coef(self):\n",
    "        return self.theta[1:]  \n",
    "\n",
    "    def _bias(self):\n",
    "        return self.theta[0]"
   ]
  },
  {
   "cell_type": "code",
   "execution_count": 64,
   "metadata": {},
   "outputs": [],
   "source": [
    "class RidgePenalty:\n",
    "    \n",
    "    def __init__(self, l):\n",
    "        self.l = l\n",
    "        \n",
    "    def __call__(self, theta): #__call__ allows us to call class as method\n",
    "        return self.l * np.sum(np.square(theta))\n",
    "        \n",
    "    def derivation(self, theta):\n",
    "        return self.l * 2 * theta\n",
    "     \n",
    "class Ridge(Logistic_regression):\n",
    "    \n",
    "    def __init__(self, method, lr, l):\n",
    "        self.regularization = RidgePenalty(l)\n",
    "        super().__init__(self.regularization,n,k, lr, method)  \n"
   ]
  },
  {
   "cell_type": "code",
   "execution_count": 65,
   "metadata": {},
   "outputs": [],
   "source": [
    "#helper function for looping classnames\n",
    "import sys\n",
    "\n",
    "def str_to_class(classname):\n",
    "    return getattr(sys.modules[__name__], classname)"
   ]
  },
  {
   "cell_type": "code",
   "execution_count": 66,
   "metadata": {},
   "outputs": [],
   "source": [
    "def encode(original_data) :\n",
    "    num_classes = np.max(original_data) + 1\n",
    "    encoded_data = np.zeros((original_data.shape[0], num_classes))\n",
    "    encoded_data[np.arange(original_data.shape[0]), original_data.flatten()] = 1\n",
    "    return encoded_data"
   ]
  },
  {
   "cell_type": "code",
   "execution_count": 67,
   "metadata": {},
   "outputs": [],
   "source": [
    "encoded_y = encode(y_train_class)\n",
    "encoded_y_test = encode(y_test_class)"
   ]
  },
  {
   "cell_type": "code",
   "execution_count": 68,
   "metadata": {},
   "outputs": [],
   "source": [
    "def accuracy(yhat, ytrue) :\n",
    "    correct = 0\n",
    "    for idx, v in enumerate(ytrue) :\n",
    "        if v == yhat[idx] :\n",
    "            correct += 1\n",
    "    return  correct/len(yhat)       \n",
    "\n",
    "def precision(yhat, ytrue, class_det) :\n",
    "    tp = 0\n",
    "    fp = 0\n",
    "    for idx , a in enumerate(ytrue) :\n",
    "        if yhat[idx] == class_det and a == class_det :\n",
    "            tp += 1\n",
    "        if yhat[idx] == class_det and a != class_det :\n",
    "            fp += 1\n",
    "    if tp + fp == 0:\n",
    "        precision = 0\n",
    "    else:\n",
    "        precision = tp / (tp + fp)        \n",
    "    return precision\n",
    "\n",
    "def recall(yhat, ytrue, class_det) :\n",
    "    tp = 0\n",
    "    fn = 0\n",
    "    for idx , a in enumerate(ytrue) :\n",
    "        if yhat[idx] == class_det and a == class_det :\n",
    "            tp += 1\n",
    "        if yhat[idx] != class_det and a == class_det :\n",
    "            fn += 1\n",
    "        if tp+fn == 0:\n",
    "            recall = 0\n",
    "        else :\n",
    "            recall = tp/(tp+fn)\n",
    "\n",
    "    return recall\n",
    "\n",
    "def f1(prec, rec):\n",
    "    if prec == 0 or rec == 0:\n",
    "        return 0  \n",
    "    return (2 * prec * rec) / (prec + rec)\n",
    "\n",
    "def marco_precision(list_precise) :\n",
    "    return np.array(list_precise).mean()\n",
    "def marco_recall(list_recall) :\n",
    "    return np.array(list_recall).mean()\n",
    "def marco_f1(list_f1) :\n",
    "    return np.array(list_f1).mean()\n",
    "\n",
    "def weight_precision(list_precise) :\n",
    "    return ( 0.2*list_precise[0] + 0.3*list_precise[1] + 0.2*list_precise[2] + 0.3*list_precise[3])\n",
    "def weight_recall(list_recall) :\n",
    "    return ( 0.2*list_recall[0] + 0.3*list_recall[1] + 0.2*list_recall[2] + 0.3*list_recall[3])\n",
    "def weight_f1(list_f1) :\n",
    "    return ( 0.2*list_f1[0] + 0.3*list_f1[1] + 0.2*list_f1[2] + 0.3*list_f1[3])"
   ]
  },
  {
   "cell_type": "code",
   "execution_count": 69,
   "metadata": {},
   "outputs": [
    {
     "name": "stdout",
     "output_type": "stream",
     "text": [
      "===== Ridge-minibatch-lr=0.0008--init_weight with xaviar use mometum =====\n",
      "loss at epoch 0 = 1.2426315017994969\n",
      "loss at epoch 500 = 1.1400783992989953\n",
      "loss at epoch 1000 = 1.1400783992978123\n",
      "loss at epoch 1500 = 1.1400783992978123\n"
     ]
    },
    {
     "name": "stderr",
     "output_type": "stream",
     "text": [
      "c:\\Users\\earth\\AppData\\Local\\Programs\\Python\\Python39\\lib\\site-packages\\_distutils_hack\\__init__.py:33: UserWarning: Setuptools is replacing distutils.\n",
      "  warnings.warn(\"Setuptools is replacing distutils.\")\n"
     ]
    }
   ],
   "source": [
    "reg = \"Ridge\"\n",
    "lr = 0.0008\n",
    "method = 'minibatch'\n",
    "init_w = 'xaviar'\n",
    "\n",
    "\n",
    "params = {\"method\": method,\"lr\": lr , \"l\": 0.45}\n",
    "mlflow.start_run(run_name=f\"Retrain-Ridge-logistic-method-minibatch-lr-{params['lr']}\")\n",
    "\n",
    "print(\"=\"*5, f\"{reg}-{method}-lr={lr}--init_weight with {init_w} use mometum\", \"=\"*5)\n",
    "\n",
    "type_of_regression = str_to_class(reg)\n",
    "model = type_of_regression(**params)  \n",
    "model.fit(init_w,False,X_train, encoded_y)\n",
    "yhat = model.predict(X_test)\n",
    "losses = model.loss(encoded_y_test, yhat)\n",
    "yhat = np.argmax(yhat, axis=1)\n",
    "acc = accuracy(yhat,y_test_class)\n",
    "y_pred = yhat\n",
    "y_true = y_test_class\n",
    "precision_0 = precision(y_pred, y_true, 0)\n",
    "recall_0 = recall(y_pred, y_true, 0)\n",
    "f1_score_0 = f1(precision_0, recall_0)\n",
    "support_0 = np.sum(y_true == 0)\n",
    "\n",
    "precision_1 = precision(y_pred, y_true, 1)\n",
    "recall_1 = recall(y_pred, y_true, 1)\n",
    "f1_score_1 = f1(precision_1, recall_1)\n",
    "support_1 = np.sum(y_true == 1)\n",
    "\n",
    "precision_2 = precision(y_pred, y_true, 2)\n",
    "recall_2 = recall(y_pred, y_true, 2)\n",
    "f1_score_2 = f1(precision_2, recall_2)\n",
    "support_2 = np.sum(y_true == 2)\n",
    "\n",
    "precision_3 = precision(y_pred, y_true, 3)\n",
    "recall_3 = recall(y_pred, y_true, 3)\n",
    "f1_score_3 = f1(precision_3, recall_3)\n",
    "support_3 = np.sum(y_true == 3)\n",
    "\n",
    "correct_predictions = sum(1 for pred, true in zip(y_pred, y_true) if pred == true)\n",
    "accuracy_total = correct_predictions / len(y_true)\n",
    "\n",
    "macro_avg_precision = marco_precision([precision_0,precision_1,precision_2, precision_3])\n",
    "macro_avg_recall = marco_recall([recall_0,recall_1,recall_2 , recall_3])\n",
    "macro_avg_f1_score = marco_f1([f1_score_0, f1_score_1, f1_score_2, f1_score_3])\n",
    "macro_avg_support = len(y_true)\n",
    "\n",
    "weighted_avg_precision = weight_precision([precision_0,precision_1,precision_2, precision_3])\n",
    "weighted_avg_recall = weight_recall([recall_0,recall_1,recall_2 , recall_3])\n",
    "weighted_avg_f1_score = weight_f1([f1_score_0, f1_score_1, f1_score_2, f1_score_3])\n",
    "weighted_avg_support = len(y_true)\n",
    "mlflow.log_metric(key=\"test_loss\", value=losses)\n",
    "mlflow.log_metric(key=\"accuracy\", value=acc)\n",
    "mlflow.log_metric(key=\"f1-class0\", value=f1_score_0)\n",
    "mlflow.log_metric(key=\"f1-class1\", value=f1_score_1)\n",
    "mlflow.log_metric(key=\"f1-class2\", value=f1_score_2)\n",
    "mlflow.log_metric(key=\"f1-class3\", value=f1_score_3)\n",
    "mlflow.log_metric(key=\"f1-marco\", value=macro_avg_f1_score)\n",
    "mlflow.log_metric(key=\"f1-weight\", value=weighted_avg_f1_score)\n",
    "signature = mlflow.models.infer_signature(X_train, model.predict(X_train))\n",
    "mlflow.sklearn.log_model(model, artifact_path='model', signature=signature)\n",
    "mlflow.end_run()"
   ]
  },
  {
   "cell_type": "markdown",
   "metadata": {},
   "source": [
    "## 5. Classification report"
   ]
  },
  {
   "cell_type": "code",
   "execution_count": 70,
   "metadata": {},
   "outputs": [],
   "source": [
    "def classification_report(y_pred, y_true) :\n",
    "    precision_0 = precision(y_pred, y_true, 0)\n",
    "    recall_0 = recall(y_pred, y_true, 0)\n",
    "    f1_score_0 = f1(precision_0, recall_0)\n",
    "    support_0 = np.sum(y_true == 0)\n",
    "    precision_1 = precision(y_pred, y_true, 1)\n",
    "    recall_1 = recall(y_pred, y_true, 1)\n",
    "    f1_score_1 = f1(precision_1, recall_1)\n",
    "    support_1 = np.sum(y_true == 1)\n",
    "    precision_2 = precision(y_pred, y_true, 2)\n",
    "    recall_2 = recall(y_pred, y_true, 2)\n",
    "    f1_score_2 = f1(precision_2, recall_2)\n",
    "    support_2 = np.sum(y_true == 2)\n",
    "    precision_3 = precision(y_pred, y_true, 3)\n",
    "    recall_3 = recall(y_pred, y_true, 3)\n",
    "    f1_score_3 = f1(precision_3, recall_3)\n",
    "    support_3 = np.sum(y_true == 3)\n",
    "    correct_predictions = sum(1 for pred, true in zip(y_pred, y_true) if pred == true)\n",
    "    accuracy_total = correct_predictions / len(y_true)\n",
    "    macro_avg_precision = marco_precision([precision_0,precision_1,precision_2, precision_3])\n",
    "    macro_avg_recall = marco_recall([recall_0,recall_1,recall_2 , recall_3])\n",
    "    macro_avg_f1_score = marco_f1([f1_score_0, f1_score_1, f1_score_2, f1_score_3])\n",
    "    macro_avg_support = len(y_true)\n",
    "    weighted_avg_precision = weight_precision([precision_0,precision_1,precision_2, precision_3])\n",
    "    weighted_avg_recall = weight_recall([recall_0,recall_1,recall_2 , recall_3])\n",
    "    weighted_avg_f1_score = weight_f1([f1_score_0, f1_score_1, f1_score_2, f1_score_3])\n",
    "    weighted_avg_support = len(y_true)\n",
    "    print(f\"                precision   recall   f1_score     support  \")\n",
    "    print(f\"     class 0       {precision_0:.2f}      {recall_0:.2f}      {f1_score_0:.2f}         {support_0}\")\n",
    "    print(f\"     class 1       {precision_1:.2f}      {recall_1:.2f}      {f1_score_1:.2f}         {support_1}\")\n",
    "    print(f\"     class 2       {precision_2:.2f}      {recall_2:.2f}      {f1_score_2:.2f}         {support_2}\")\n",
    "    print(f\"     class 3       {precision_3:.2f}      {recall_3:.2f}      {f1_score_3:.2f}         {support_3}\")\n",
    "    print()\n",
    "    print(f\"    accuracy                           {accuracy_total:.2f}         {len(y_true)}\")  # support for accuracy is the total count\n",
    "    print(f\"   macro avg       {macro_avg_precision:.2f}      {macro_avg_recall:.2f}      {macro_avg_f1_score:.2f}         {macro_avg_support}\")\n",
    "    print(f\"weighted avg       {weighted_avg_precision:.2f}      {weighted_avg_recall:.2f}      {weighted_avg_f1_score:.2f}         {weighted_avg_support}\")"
   ]
  },
  {
   "cell_type": "code",
   "execution_count": 71,
   "metadata": {},
   "outputs": [
    {
     "name": "stdout",
     "output_type": "stream",
     "text": [
      "                precision   recall   f1_score     support  \n",
      "     class 0       0.79      0.82      0.80         448\n",
      "     class 1       0.58      0.48      0.52         437\n",
      "     class 2       0.51      0.66      0.58         441\n",
      "     class 3       0.83      0.71      0.76         462\n",
      "\n",
      "    accuracy                           0.67         1788\n",
      "   macro avg       0.68      0.67      0.67         1788\n",
      "weighted avg       0.68      0.65      0.66         1788\n"
     ]
    }
   ],
   "source": [
    "classification_report(y_pred, y_true)"
   ]
  },
  {
   "cell_type": "code",
   "execution_count": 72,
   "metadata": {},
   "outputs": [
    {
     "data": {
      "image/png": "[encoded data removed]",
      "text/plain": [
       "<Figure size 576x432 with 2 Axes>"
      ]
     },
     "metadata": {
      "needs_background": "light"
     },
     "output_type": "display_data"
    }
   ],
   "source": [
    "import numpy as np\n",
    "import matplotlib.pyplot as plt\n",
    "import seaborn as sns\n",
    "\n",
    "\n",
    "num_classes = len(np.unique(y_true))\n",
    "confusion_matrix = np.zeros((num_classes, num_classes))\n",
    "for i in range(len(y_true)):\n",
    "    confusion_matrix[y_true[i]][y_pred[i]] += 1\n",
    "\n",
    "target_names = ['class 0', 'class 1', 'class 2', 'class 3']\n",
    "plt.figure(figsize=(8, 6))\n",
    "sns.set(font_scale=1.2)\n",
    "sns.heatmap(confusion_matrix, annot=True, cmap=\"Blues\", fmt=\".2f\",\n",
    "            xticklabels=target_names, yticklabels=target_names)\n",
    "plt.xlabel(\"Predicted\")\n",
    "plt.ylabel(\"True\")\n",
    "plt.title(\"Confusion Matrix\")\n",
    "plt.show()\n"
   ]
  },
  {
   "cell_type": "code",
   "execution_count": 73,
   "metadata": {},
   "outputs": [],
   "source": [
    "import warnings\n",
    "warnings.filterwarnings(\"ignore\", category=UserWarning)"
   ]
  },
  {
   "cell_type": "code",
   "execution_count": 74,
   "metadata": {},
   "outputs": [],
   "source": [
    "def prediction(model, data) :\n",
    "    dd = np.array(data).reshape(1,-1)\n",
    "    data = scaler.transform(dd)\n",
    "    data = np.concatenate((np.array([[1]]), data), axis=1)\n",
    "    result = model.predict(data)\n",
    "    return np.argmax(result, axis=1)"
   ]
  },
  {
   "cell_type": "code",
   "execution_count": 75,
   "metadata": {},
   "outputs": [
    {
     "name": "stdout",
     "output_type": "stream",
     "text": [
      "predicted class 1\n"
     ]
    }
   ],
   "source": [
    "# feature is engine max_power years\n",
    "print(f\"predicted class {prediction(model, [1024,78,2015])[0]}\")"
   ]
  },
  {
   "cell_type": "code",
   "execution_count": 77,
   "metadata": {},
   "outputs": [
    {
     "data": {
      "text/plain": [
       "<__main__.Ridge at 0x1c327747c40>"
      ]
     },
     "execution_count": 77,
     "metadata": {},
     "output_type": "execute_result"
    }
   ],
   "source": [
    "model"
   ]
  },
  {
   "cell_type": "code",
   "execution_count": 80,
   "metadata": {},
   "outputs": [
    {
     "data": {
      "text/plain": [
       "['classification.pkl']"
      ]
     },
     "execution_count": 80,
     "metadata": {},
     "output_type": "execute_result"
    }
   ],
   "source": [
    "import joblib\n",
    "\n",
    "# Save the model\n",
    "joblib.dump(model, 'model/classification.pkl')\n",
    "\n",
    "classi_model = joblib.load('model/classification.pkl')"
   ]
  },
  {
   "cell_type": "markdown",
   "metadata": {},
   "source": [
    "## Summary\n",
    "For the summary of this assignment at first i use normal pd.cut and do SMOTE to fix the imbalance datasets. i get the accuracy 0.759 and f1-macro 0.753, f1-weight 0.752. For now i try to fix the imbalance class by use the quantile to get the range to split 4 class, after training i got accuracy 0.66, so i stagging in mlflow server with first model."
   ]
  }
 ],
 "metadata": {
  "kernelspec": {
   "display_name": ".venv",
   "language": "python",
   "name": "python3"
  },
  "language_info": {
   "codemirror_mode": {
    "name": "ipython",
    "version": 3
   },
   "file_extension": ".py",
   "mimetype": "text/x-python",
   "name": "python",
   "nbconvert_exporter": "python",
   "pygments_lexer": "ipython3",
   "version": "3.9.0"
  },
  "orig_nbformat": 4
 },
 "nbformat": 4,
 "nbformat_minor": 2
}
